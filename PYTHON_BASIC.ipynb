{
 "cells": [
  {
   "cell_type": "code",
   "execution_count": 4,
   "id": "7c9dd57a",
   "metadata": {},
   "outputs": [
    {
     "name": "stdout",
     "output_type": "stream",
     "text": [
      "HELLO WORLD\n"
     ]
    }
   ],
   "source": [
    "# ctrl+enter no new cell will be added\n",
    "\n",
    "print(\"HELLO WORLD\")"
   ]
  },
  {
   "cell_type": "markdown",
   "id": "f0dcdff8",
   "metadata": {},
   "source": [
    "### PYTHON BASICS"
   ]
  },
  {
   "cell_type": "markdown",
   "id": "b2a4e16c",
   "metadata": {},
   "source": [
    "###  VARIABLES"
   ]
  },
  {
   "cell_type": "markdown",
   "id": "01e79b7f",
   "metadata": {},
   "source": [
    "It is an identifier which holdes a value\n",
    "\n",
    "Python is case sensitive\n",
    "\n",
    "Identifier does not have Numbering OR special characters as first character(20,@,!)\n"
   ]
  },
  {
   "cell_type": "code",
   "execution_count": 7,
   "id": "67896340",
   "metadata": {},
   "outputs": [
    {
     "name": "stdout",
     "output_type": "stream",
     "text": [
      "10\n",
      "4.1\n"
     ]
    }
   ],
   "source": [
    "a=10\n",
    "b=4.1\n",
    "print(a)\n",
    "print(b)\n",
    "\n"
   ]
  },
  {
   "cell_type": "code",
   "execution_count": 11,
   "id": "01ed52a3",
   "metadata": {},
   "outputs": [
    {
     "name": "stdout",
     "output_type": "stream",
     "text": [
      "<class 'str'>\n"
     ]
    }
   ],
   "source": [
    "c=\"true\"\n",
    "print(type(c))"
   ]
  },
  {
   "cell_type": "code",
   "execution_count": 26,
   "id": "a659e7cd",
   "metadata": {},
   "outputs": [
    {
     "name": "stdout",
     "output_type": "stream",
     "text": [
      "Russell 21 12C\n",
      "NAME\t Russell\n",
      "age\t 21\n",
      "div\t 12C\n",
      "<class 'bool'>\n",
      "NAME\tRussell \tAGE\t 21 \tDIV\t12C\n"
     ]
    }
   ],
   "source": [
    "name,age,div=\"Russell\",21,'12C'\n",
    "print(name,age,div)\n",
    "print('NAME\\t',name)\n",
    "print('age\\t',age)\n",
    "print('div\\t',div)\n",
    "\n",
    "bool1=True\n",
    "print(type(bool1))\n",
    "\n",
    "print('NAME\\t'+name,'\\tAGE\\t',age,'\\tDIV\\t'+div)"
   ]
  },
  {
   "cell_type": "markdown",
   "id": "61803354",
   "metadata": {},
   "source": [
    "### DATA TYPES"
   ]
  },
  {
   "cell_type": "markdown",
   "id": "fb818f9f",
   "metadata": {},
   "source": [
    "      1)INTEGER\n",
    "          10,34,75...\n",
    "      2)FLOAT\n",
    "          4.3,5.6,3.14\n",
    "      3)STRING\n",
    "          ALPHABETS/CHARACTERS enclosed with ('',\"\",\"\"\"  \"\"\")\n",
    "          \n",
    "      TO PRINT STRING\n",
    "              print('   ',variable)\n",
    "              \n",
    "         IN PANDAS STRING IS DENOTED AS OBJECTS\n",
    "         \n",
    "         IMP QUESTION\n",
    "         \n",
    "         WHAT ARE DATA TYPES IN PYTHON\n",
    "         \n",
    "         \n",
    "         \n",
    "         \n",
    "          \n",
    "          "
   ]
  },
  {
   "cell_type": "code",
   "execution_count": 31,
   "id": "f3a37d29",
   "metadata": {},
   "outputs": [
    {
     "name": "stdout",
     "output_type": "stream",
     "text": [
      "10\n",
      "64\n",
      "CAT\n",
      "<class 'str'>\n"
     ]
    }
   ],
   "source": [
    "a=10\n",
    "b=a #shallow copy\n",
    "\n",
    "# iMP interview question\n",
    "    # what is shallow copy?\n",
    "    \n",
    "    \n",
    "print(b)\n",
    "\n",
    "b=64\n",
    "print(b)\n",
    "\n",
    "a=\"CAT\"\n",
    "\n",
    "print(a)\n",
    "\n",
    "print(type(a))"
   ]
  },
  {
   "cell_type": "code",
   "execution_count": 36,
   "id": "b27373c4",
   "metadata": {},
   "outputs": [
    {
     "name": "stdout",
     "output_type": "stream",
     "text": [
      "6.4\n",
      "<class 'float'>\n"
     ]
    }
   ],
   "source": [
    "# TYPE INFERENCING IS DONE AUTOMATICALLY\n",
    "a=3\n",
    "b=3.4\n",
    "print(a+b)\n",
    "c=a+b\n",
    "\n",
    "print(type(c))\n"
   ]
  },
  {
   "cell_type": "markdown",
   "id": "39263b58",
   "metadata": {},
   "source": [
    "### TYPES OF FUNCTION"
   ]
  },
  {
   "cell_type": "markdown",
   "id": "eb011040",
   "metadata": {},
   "source": [
    " FUNCTION is construct of programming\n",
    "     function logic: logic used to make the function\n",
    "     function call: for using that function\n",
    "     \n",
    "         \n",
    "         function_name()\n",
    "         \n",
    "         TYPES OF FUNCTIONS\n",
    "         \n",
    "        1) built in function:\n",
    "                print(),type(),len(),input()\n",
    "                \n",
    "         2)user defined function:\n",
    "                 MADE BY USER\n",
    "               \n",
    "            3)lambda function  :\n",
    "            anornimus/temperary function\n",
    "            \n",
    "       "
   ]
  },
  {
   "cell_type": "markdown",
   "id": "f697098d",
   "metadata": {},
   "source": [
    "### BUILD-IN FUNCTION"
   ]
  },
  {
   "cell_type": "code",
   "execution_count": 7,
   "id": "d01b25b2",
   "metadata": {},
   "outputs": [
    {
     "name": "stdout",
     "output_type": "stream",
     "text": [
      "ENTER YOUR NAME:sdfxc\n",
      "ENTER YOUR AGE:345\n",
      "ENTER YOuR SALARY345654.34\n",
      "NAME IS\t sdfxc\n",
      "AGE IS \t 345\n",
      "SALARY IS \t 345654.34\n",
      "<class 'int'>\n",
      "<class 'float'>\n"
     ]
    }
   ],
   "source": [
    "name=input('ENTER YOUR NAME:')\n",
    "age=int(input('ENTER YOUR AGE:'))\n",
    "salary=float(input('ENTER YOuR SALARY'))\n",
    "\n",
    "\n",
    "print('NAME IS\\t',name)\n",
    "print('AGE IS \\t',age)\n",
    "print('SALARY IS \\t',salary)\n",
    "\n",
    "\n",
    "print(type(age))\n",
    "print(type(salary))"
   ]
  },
  {
   "cell_type": "code",
   "execution_count": 10,
   "id": "7ab00a5b",
   "metadata": {},
   "outputs": [
    {
     "name": "stdout",
     "output_type": "stream",
     "text": [
      "ENTER first number\t345\n",
      "ENTER second number\t432\n",
      "SUM OF NUMBER IS\t 777.0\n"
     ]
    }
   ],
   "source": [
    "num1=float(input('ENTER first number\\t'))\n",
    "num2=float(input('ENTER second number\\t'))\n",
    "print('SUM OF NUMBER IS\\t',num1+num2)"
   ]
  },
  {
   "cell_type": "code",
   "execution_count": 14,
   "id": "4a879619",
   "metadata": {},
   "outputs": [
    {
     "name": "stdout",
     "output_type": "stream",
     "text": [
      "0.01.0\n",
      "0.01.0\n",
      "1.01.0\n"
     ]
    }
   ],
   "source": [
    "num1=input(float())\n",
    "num2=input(float())\n",
    "print(num1+num2)"
   ]
  },
  {
   "cell_type": "code",
   "execution_count": 24,
   "id": "305e6ada",
   "metadata": {},
   "outputs": [
    {
     "name": "stdout",
     "output_type": "stream",
     "text": [
      "FIRST NUM\n",
      "234.34\n",
      "SECOND NUM\n",
      "123421\n",
      "PRODUCT IS \n",
      " 28880514.0\n",
      "type of num1 is\t <class 'int'>\n",
      "type of num2 is\t <class 'float'>\n"
     ]
    }
   ],
   "source": [
    "num1=int(float(input('FIRST NUM\\n')))\n",
    "num2=float(int(input('SECOND NUM\\n')))\n",
    "print('PRODUCT IS \\n',num1*num2)\n",
    "\n",
    "print('type of num1 is\\t',type(num1))\n",
    "print('type of num2 is\\t',type(num2))"
   ]
  },
  {
   "cell_type": "code",
   "execution_count": 26,
   "id": "e161f0f2",
   "metadata": {},
   "outputs": [
    {
     "name": "stdout",
     "output_type": "stream",
     "text": [
      "FIRST NUM\n",
      "12\n",
      "SECOND NUM\n",
      "432\n",
      "PRODUCT IS \n",
      " 5184\n"
     ]
    }
   ],
   "source": [
    "# with help of build in function multiply two number number should be intrger\n",
    "\n",
    "num1=int(input('FIRST NUM\\n'))\n",
    "num2=int(input('SECOND NUM\\n'))\n",
    "print('PRODUCT IS \\n',num1*num2)\n",
    "\n"
   ]
  },
  {
   "cell_type": "code",
   "execution_count": 30,
   "id": "38a90241",
   "metadata": {},
   "outputs": [
    {
     "name": "stdout",
     "output_type": "stream",
     "text": [
      "FIRST NUMBER\n",
      "12\n",
      "SECOND NUMBER\n",
      "1\n",
      "DIFFERENCE IS \n",
      " 11.0\n"
     ]
    }
   ],
   "source": [
    "#THE INPUT VALUE SHOULD BE FLOAT IN NATURE AND HAVE TO FIND DIFFERENCE BETWEEN TWO VARIABLES\n",
    "\n",
    "num1=float(input('FIRST NUMBER\\n'))\n",
    "num2=float(input('SECOND NUMBER\\n'))\n",
    "print('DIFFERENCE IS \\n',num1-num2)\n"
   ]
  },
  {
   "cell_type": "code",
   "execution_count": 33,
   "id": "93e4b74e",
   "metadata": {},
   "outputs": [
    {
     "name": "stdout",
     "output_type": "stream",
     "text": [
      "<class 'int'>\n",
      "<class 'str'>\n"
     ]
    }
   ],
   "source": [
    "# CHECK TYPE OF 20 is equal to type of '20'\n",
    "a=20\n",
    "b='20'\n",
    "\n",
    "print(type(a))\n",
    "print(type(b))"
   ]
  },
  {
   "cell_type": "markdown",
   "id": "8223e98c",
   "metadata": {},
   "source": [
    "### USER DEFINED FUNCTION"
   ]
  },
  {
   "cell_type": "code",
   "execution_count": 1,
   "id": "ac9ead3e",
   "metadata": {},
   "outputs": [],
   "source": [
    "def cube(a):\n",
    "    print('value of a:',a)\n",
    "    print('CUBE OF GIVEN NUMBER IS'a*a*a)\n",
    "\n"
   ]
  },
  {
   "cell_type": "code",
   "execution_count": 3,
   "id": "384bea32",
   "metadata": {},
   "outputs": [
    {
     "name": "stdout",
     "output_type": "stream",
     "text": [
      "ENTER THE NUMBER21\n",
      "value of a: 21.0\n",
      "9261.0\n"
     ]
    }
   ],
   "source": [
    "cube(float(input('ENTER THE NUMBER')))"
   ]
  },
  {
   "cell_type": "code",
   "execution_count": 2,
   "id": "e458c021",
   "metadata": {},
   "outputs": [],
   "source": [
    "def cube(a):\n",
    "    print('NUMBER ENTERED IS:\\n',a)\n",
    "    c=a*a*a\n",
    "    print('CUBE IS\\n',c)\n",
    "    return(c)"
   ]
  },
  {
   "cell_type": "code",
   "execution_count": 22,
   "id": "60edb03b",
   "metadata": {},
   "outputs": [
    {
     "name": "stdout",
     "output_type": "stream",
     "text": [
      "ENTER THE NUMBER\n",
      "34\n",
      "NUMBER ENTERED IS:\n",
      " 34.0\n",
      "CUBE IS\n",
      " 39304.0\n"
     ]
    },
    {
     "data": {
      "text/plain": [
       "39304.0"
      ]
     },
     "execution_count": 22,
     "metadata": {},
     "output_type": "execute_result"
    }
   ],
   "source": [
    "cube(float(input('ENTER THE NUMBER\\n')))"
   ]
  },
  {
   "cell_type": "code",
   "execution_count": 6,
   "id": "25ac4d58",
   "metadata": {},
   "outputs": [
    {
     "name": "stdout",
     "output_type": "stream",
     "text": [
      "NUMBER ENTERED IS:\n",
      " 20.0\n",
      "CUBE IS\n",
      " 8000.0\n",
      "NUMBER IS\n",
      " 8100.0\n"
     ]
    }
   ],
   "source": [
    "c=cube(20.0)\n",
    "\n",
    "sum1= 100.0 + c\n",
    "print('NUMBER IS\\n',sum1)"
   ]
  },
  {
   "cell_type": "code",
   "execution_count": 24,
   "id": "6974a8c0",
   "metadata": {},
   "outputs": [
    {
     "name": "stdout",
     "output_type": "stream",
     "text": [
      "ENTER THE NUMBER:2\n",
      "NUMBER ENTERED IS:\n",
      " 2.0\n",
      "CUBE IS\n",
      " 8.0\n"
     ]
    },
    {
     "data": {
      "text/plain": [
       "8.0"
      ]
     },
     "execution_count": 24,
     "metadata": {},
     "output_type": "execute_result"
    }
   ],
   "source": [
    "# FUNCTION CALL\n",
    "val=float(input('ENTER THE NUMBER:'))\n",
    "cube(val)"
   ]
  },
  {
   "cell_type": "code",
   "execution_count": 5,
   "id": "7ea8fe63",
   "metadata": {},
   "outputs": [
    {
     "name": "stdout",
     "output_type": "stream",
     "text": [
      "ENTER THE NUMBER:20.00000000000003224\n",
      "NUMBER ENTERED IS:\n",
      " 20.000000000000032\n",
      "CUBE IS\n",
      " 8000.000000000039\n"
     ]
    },
    {
     "data": {
      "text/plain": [
       "8000.0"
      ]
     },
     "execution_count": 5,
     "metadata": {},
     "output_type": "execute_result"
    }
   ],
   "source": [
    "# FUNCTION CALL\n",
    "val=float(input('ENTER THE NUMBER:'))\n",
    "# cube(val)\n",
    "round(cube(val),3)"
   ]
  },
  {
   "cell_type": "markdown",
   "id": "d9623db1",
   "metadata": {},
   "source": [
    "### PARAMETER FUNCTION"
   ]
  },
  {
   "cell_type": "code",
   "execution_count": 13,
   "id": "70c818ed",
   "metadata": {},
   "outputs": [],
   "source": [
    "# PARAMETER FUNCTION\n",
    "\n",
    "def add(a,b):\n",
    "    print('VALUE IS:',a,'+',b)\n",
    "    return a+b"
   ]
  },
  {
   "cell_type": "code",
   "execution_count": 14,
   "id": "ca6cfc07",
   "metadata": {},
   "outputs": [
    {
     "name": "stdout",
     "output_type": "stream",
     "text": [
      "VALUE IS: 3 + 3\n"
     ]
    },
    {
     "data": {
      "text/plain": [
       "6"
      ]
     },
     "execution_count": 14,
     "metadata": {},
     "output_type": "execute_result"
    }
   ],
   "source": [
    "add(3,3)"
   ]
  },
  {
   "cell_type": "code",
   "execution_count": 23,
   "id": "2366c663",
   "metadata": {},
   "outputs": [],
   "source": [
    "# WRITE an user defined function for adding three numbers\n",
    "\n",
    "def add1(a,b,c):\n",
    "    print('VALUE IS:',a,'+',b,'+',c)\n",
    "    return a+b+c\n"
   ]
  },
  {
   "cell_type": "code",
   "execution_count": 24,
   "id": "9caf3379",
   "metadata": {},
   "outputs": [
    {
     "name": "stdout",
     "output_type": "stream",
     "text": [
      "VALUE IS: 3 + 3 + 3\n"
     ]
    },
    {
     "data": {
      "text/plain": [
       "9"
      ]
     },
     "execution_count": 24,
     "metadata": {},
     "output_type": "execute_result"
    }
   ],
   "source": [
    "add1(3,3,3)"
   ]
  },
  {
   "cell_type": "code",
   "execution_count": 29,
   "id": "11fb8f3d",
   "metadata": {
    "scrolled": true
   },
   "outputs": [],
   "source": [
    "# TWO SUBSTRACT VALUE\n",
    "\n",
    "def sub(a,b):\n",
    "    print('VALUE IS:',a,'-',b)\n",
    "    return a-b"
   ]
  },
  {
   "cell_type": "code",
   "execution_count": 31,
   "id": "30fc30d3",
   "metadata": {},
   "outputs": [
    {
     "name": "stdout",
     "output_type": "stream",
     "text": [
      "VALUE IS: 3 - 2\n"
     ]
    },
    {
     "data": {
      "text/plain": [
       "1"
      ]
     },
     "execution_count": 31,
     "metadata": {},
     "output_type": "execute_result"
    }
   ],
   "source": [
    "sub(3,2)"
   ]
  },
  {
   "cell_type": "markdown",
   "id": "876c9a08",
   "metadata": {},
   "source": [
    "### PARAMETER LESS FUNCTION "
   ]
  },
  {
   "cell_type": "code",
   "execution_count": 38,
   "id": "ecc5e091",
   "metadata": {},
   "outputs": [],
   "source": [
    "def hi():\n",
    "    print(\"HELLO USER!\")\n",
    "    a=23\n",
    "    b=54\n",
    "    return(a+b)"
   ]
  },
  {
   "cell_type": "code",
   "execution_count": 39,
   "id": "93d83390",
   "metadata": {},
   "outputs": [
    {
     "name": "stdout",
     "output_type": "stream",
     "text": [
      "HELLO USER!\n"
     ]
    },
    {
     "data": {
      "text/plain": [
       "77"
      ]
     },
     "execution_count": 39,
     "metadata": {},
     "output_type": "execute_result"
    }
   ],
   "source": [
    "hi()"
   ]
  },
  {
   "cell_type": "code",
   "execution_count": 51,
   "id": "bd648f22",
   "metadata": {},
   "outputs": [],
   "source": [
    "def evenodd():\n",
    "    num=int(input(\"ENTER THE NUMBER\"))\n",
    "    if num%2==0:\n",
    "        print('NUMBER IS EVEN')\n",
    "    else:\n",
    "        print('NUMBER IS ODD')"
   ]
  },
  {
   "cell_type": "code",
   "execution_count": 53,
   "id": "c4a771a1",
   "metadata": {},
   "outputs": [
    {
     "name": "stdout",
     "output_type": "stream",
     "text": [
      "ENTER THE NUMBER567894567805432\n",
      "NUMBER IS EVEN\n"
     ]
    }
   ],
   "source": [
    "evenodd()"
   ]
  },
  {
   "cell_type": "markdown",
   "id": "74849a5e",
   "metadata": {},
   "source": [
    "OPERATORS:\n",
    "OPERATORS ARE USE TO PERFORM OPERATIONS ON VARIABLES AND VALUES"
   ]
  },
  {
   "cell_type": "code",
   "execution_count": 54,
   "id": "12f09e11",
   "metadata": {},
   "outputs": [],
   "source": [
    "# ASSIGNMENT OPERATORS\n",
    "\n",
    "name=\"RUSSELL\"\n",
    "age=21\n",
    "city='NASHIK'\n"
   ]
  },
  {
   "cell_type": "code",
   "execution_count": 1,
   "id": "3142a12b",
   "metadata": {},
   "outputs": [
    {
     "name": "stdout",
     "output_type": "stream",
     "text": [
      "ENTER THE FIRST NUMBER2\n",
      "ENTER THE SECOND NUMBER32\n"
     ]
    },
    {
     "data": {
      "text/plain": [
       "2.0"
      ]
     },
     "execution_count": 1,
     "metadata": {},
     "output_type": "execute_result"
    }
   ],
   "source": [
    "# ARITHMETIC OPERATOR\n",
    "\n",
    "a=float(input('ENTER THE FIRST NUMBER'))\n",
    "b=float(input('ENTER THE SECOND NUMBER'))\n",
    "\n",
    "a+b\n",
    "b-a\n",
    "a*b\n",
    "b/a\n",
    "b//a #floore division\n",
    "a**b  #Power EXPONENTIAL\n",
    "a%b  # MODULUS::REMIANDER"
   ]
  },
  {
   "cell_type": "code",
   "execution_count": 2,
   "id": "aeb3f857",
   "metadata": {},
   "outputs": [
    {
     "name": "stdout",
     "output_type": "stream",
     "text": [
      "22\n",
      "-2\n",
      "0.8333333333333334\n",
      "0\n",
      "120\n",
      "1000000000000\n",
      "10\n"
     ]
    }
   ],
   "source": [
    "# IF A=10 and B=14 perform operations using all arithmetic operators\n",
    "\n",
    "a=10\n",
    "b=12\n",
    "print(a+b)\n",
    "print(a-b)\n",
    "print(a/b)\n",
    "print(a//b)\n",
    "print(a*b)\n",
    "print(a**b)\n",
    "print(a%b)"
   ]
  },
  {
   "cell_type": "code",
   "execution_count": 13,
   "id": "d50c2f8f",
   "metadata": {},
   "outputs": [
    {
     "name": "stdout",
     "output_type": "stream",
     "text": [
      "True\n",
      "False\n",
      "True\n",
      "False\n",
      "False\n",
      "True\n",
      "False\n",
      "False\n",
      "True\n",
      "False\n",
      "True\n",
      "True\n",
      "5\n",
      "ENTER THE FIRST WORD\t\ts\n",
      "ENTER THE SECOND WORD\tdsa\n",
      "SECOND WORD IS GREATER\n"
     ]
    }
   ],
   "source": [
    "# RELATIONAL OPERATOR (BOOLEAN) gives in true or false\n",
    "\n",
    "\n",
    "# >\n",
    "# <\n",
    "# >=\n",
    "# <=\n",
    "# ==\n",
    "# !=\n",
    "\n",
    "print(3>2)\n",
    "print(3<2)\n",
    "print(3>=2)\n",
    "print(3<=2)\n",
    "print(3==2)\n",
    "print(3!=2)\n",
    "\n",
    "print(len('mango')==len('sjdskdhjsnd'))\n",
    "print(len('mango')>len('sjdskdhjsnd'))\n",
    "print(len('mango')<len('sjdskdhjsnd'))\n",
    "print(len('mango')>=len('sjdskdhjsnd'))\n",
    "print(len('mango')<=len('sjdskdhjsnd'))\n",
    "print(len('mango')!=len('sjdskdhjsnd'))\n",
    "print(len('mango'))\n",
    "\n",
    "\n",
    "a=input(\"ENTER THE FIRST WORD\\t\")\n",
    "b=input(\"ENTER THE SECOND WORD\\t\")\n",
    "\n",
    "if len(a)>len(b):\n",
    "    print(\"FIRST WORD IS GREATER\")\n",
    "    \n",
    "else:\n",
    "    print(\"SECOND WORD IS GREATER\")"
   ]
  },
  {
   "cell_type": "code",
   "execution_count": 17,
   "id": "e65204a7",
   "metadata": {},
   "outputs": [
    {
     "name": "stdout",
     "output_type": "stream",
     "text": [
      "a and b is False\n",
      "a OR b is True\n"
     ]
    }
   ],
   "source": [
    "# LOGICAL OPERATORS AND(&) OR(|)\n",
    "\n",
    "a= True\n",
    "b= False\n",
    "\n",
    "print('a and b is',a & b)\n",
    "print('a OR b is',a | b)\n"
   ]
  },
  {
   "cell_type": "markdown",
   "id": "f10610ca",
   "metadata": {},
   "source": [
    "### CONDITIONAL STATEMENTS"
   ]
  },
  {
   "cell_type": "markdown",
   "id": "189f2bbd",
   "metadata": {},
   "source": [
    "        1) if else\n",
    "        \n",
    "            SYNTAX\n",
    "                if condition :\n",
    "                    statement\n",
    "                 else :\n",
    "                     statement\n",
    "                     \n",
    "        2) nested if else\n",
    "        "
   ]
  },
  {
   "cell_type": "code",
   "execution_count": 22,
   "id": "dbbfef3c",
   "metadata": {},
   "outputs": [
    {
     "name": "stdout",
     "output_type": "stream",
     "text": [
      "ENTER THE VALUE OF X\t23\n",
      "ENTER THE VALUE OF Y\t32\n",
      "32  is greater than  23\n"
     ]
    }
   ],
   "source": [
    "x=int(input('ENTER THE VALUE OF X\\t'))\n",
    "y=int(input('ENTER THE VALUE OF Y\\t'))\n",
    "\n",
    "if x>y:\n",
    "    print(x ,'is greater than ',y)\n",
    "else:2\n",
    "    print(y,' is greater than ',x)"
   ]
  },
  {
   "cell_type": "code",
   "execution_count": 24,
   "id": "43347d47",
   "metadata": {},
   "outputs": [
    {
     "name": "stdout",
     "output_type": "stream",
     "text": [
      "ENTER YOUR SCORE\t23\n",
      "TRY AGAIN\n"
     ]
    }
   ],
   "source": [
    "x=int(input('ENTER YOUR SCORE\\t'))\n",
    "\n",
    "\n",
    "if x>40:\n",
    "    print('YOU ARE SELECTED')\n",
    "else:\n",
    "    print('TRY AGAIN')"
   ]
  },
  {
   "cell_type": "code",
   "execution_count": 32,
   "id": "1d69fdb5",
   "metadata": {},
   "outputs": [
    {
     "name": "stdout",
     "output_type": "stream",
     "text": [
      "ENTER YOUR AGE\t20\n",
      "YOU ARE NOT ELIGIBLE\n",
      " TRY AGAIN AFTER 1 YEARS\n"
     ]
    }
   ],
   "source": [
    "# with input function make age variable is age is greater than 21 you are eligible to apply licence you cant\n",
    "\n",
    "\n",
    "age=int(input(\"ENTER YOUR AGE\\t\"))\n",
    "if age>=21:\n",
    "    print(\"YOU ARE ELIGIBLE TO APPLY FOR A LICENCE\")\n",
    "else:\n",
    "    print('YOU ARE NOT ELIGIBLE\\n TRY AGAIN AFTER',21-age,'YEARS')"
   ]
  },
  {
   "cell_type": "code",
   "execution_count": 4,
   "id": "7a13522d",
   "metadata": {},
   "outputs": [
    {
     "name": "stdout",
     "output_type": "stream",
     "text": [
      "ENTER THE FIRST WORD\tdfg\n",
      "ENTER THE SECOND WORD\tfds\n",
      "\n",
      "*************START****************\n",
      "\n",
      "dfg AND fds  HAVE SAME LENGTH\n",
      "\n",
      "***********DONE****************\n"
     ]
    }
   ],
   "source": [
    "#  Nested if else\n",
    "\n",
    "\n",
    "a=input(\"ENTER THE FIRST WORD\\t\")\n",
    "b=input(\"ENTER THE SECOND WORD\\t\")\n",
    "\n",
    "print(\"\\n*************START****************\\n\")\n",
    "if len(a)>len(b):\n",
    "    print(a,\" HAS GREATER LENGTH\")\n",
    "else:\n",
    "    if len(a)==len(b):\n",
    "        print(a,\"AND\",b,\" HAVE SAME LENGTH\")\n",
    "    \n",
    "    else:\n",
    "        print(b,\" HAS GREATER LENGTH\")\n",
    "print(\"\\n***********DONE****************\")"
   ]
  },
  {
   "cell_type": "code",
   "execution_count": 5,
   "id": "0e079501",
   "metadata": {},
   "outputs": [
    {
     "name": "stdout",
     "output_type": "stream",
     "text": [
      "ENTER YOUR MARKS\t34\n",
      "FAIL\n",
      "TRY HARDER\n"
     ]
    }
   ],
   "source": [
    "# if elif ladder\n",
    "\n",
    "marks=int(input(\"ENTER YOUR MARKS\\t\"))\n",
    "if marks>100:\n",
    "    print(\"INVALID ANSWER\\t\",marks)\n",
    "elif marks>=90:\n",
    "    print(\"A GRADE\\t\")\n",
    "elif marks>=80:\n",
    "    print(\"B GRADE\\t\")\n",
    "elif marks>=70:\n",
    "    print(\"C GRADE\\t\")\n",
    "elif marks>=60:\n",
    "    print(\"D GRADE\\n\")\n",
    "elif marks>=40:\n",
    "    print(\"E GRADE\\n NEEDS IMPROVEMENT\")\n",
    "else:\n",
    "    print(\"FAIL\\nTRY HARDER\")"
   ]
  },
  {
   "cell_type": "markdown",
   "id": "80b6c624",
   "metadata": {},
   "source": [
    "# LOOPS\n",
    "\n",
    "    Loops are programmable construct which are used and executed with multiple values"
   ]
  },
  {
   "cell_type": "markdown",
   "id": "cdee5e37",
   "metadata": {},
   "source": [
    "    1)While: conditional loop\n",
    "        it will run until it is true\n",
    "    2)For: Iteraative loop\n",
    "        it will iterate to all the points\n",
    "            traverses to all elements in the data"
   ]
  },
  {
   "cell_type": "markdown",
   "id": "5b199cb5",
   "metadata": {},
   "source": [
    "# WHILE LOOP"
   ]
  },
  {
   "cell_type": "code",
   "execution_count": 27,
   "id": "a8e5e65f",
   "metadata": {},
   "outputs": [
    {
     "name": "stdout",
     "output_type": "stream",
     "text": [
      "enter a number less than 5\t2\n",
      "3\n",
      "4\n",
      "5\n"
     ]
    }
   ],
   "source": [
    "# WHILE LOOP\n",
    "count=int(input('enter a number less than 5\\t')) \n",
    "#count=0     #initializer is important\n",
    "if count>5:\n",
    "    print(\"ERROR\")\n",
    "else:\n",
    "    while(count<5):\n",
    "        count=count+1  #pre increment\n",
    "        print(count)\n",
    "  #  count=count+1   #post increment"
   ]
  },
  {
   "cell_type": "code",
   "execution_count": 5,
   "id": "a199b2a7",
   "metadata": {},
   "outputs": [
    {
     "name": "stdout",
     "output_type": "stream",
     "text": [
      "0\n",
      "1\n",
      "2\n",
      "3\n",
      "4\n",
      "5\n",
      "6\n",
      "7\n",
      "8\n",
      "9\n",
      "count value has reached \t 10\n"
     ]
    }
   ],
   "source": [
    "count=0\n",
    "while(count<10):\n",
    "    print(count)\n",
    "    count+=1\n",
    "else:\n",
    "    print('count value has reached \\t',count)"
   ]
  },
  {
   "cell_type": "code",
   "execution_count": 4,
   "id": "60896720",
   "metadata": {},
   "outputs": [
    {
     "name": "stdout",
     "output_type": "stream",
     "text": [
      "******SELECT AN OPTION******\n",
      "1)pre increment\n",
      "2)post increment\n",
      "1\n",
      "99\n",
      "98\n",
      "97\n",
      "96\n",
      "95\n",
      "94\n",
      "93\n",
      "92\n",
      "91\n",
      "90\n",
      "89\n",
      "88\n",
      "87\n",
      "86\n",
      "85\n",
      "84\n",
      "83\n",
      "82\n",
      "81\n",
      "80\n",
      "79\n",
      "78\n",
      "77\n",
      "76\n",
      "75\n",
      "74\n",
      "73\n",
      "72\n",
      "71\n",
      "70\n",
      "69\n",
      "68\n",
      "67\n",
      "66\n",
      "65\n",
      "64\n",
      "63\n",
      "62\n",
      "61\n",
      "60\n",
      "59\n",
      "58\n",
      "57\n",
      "56\n",
      "55\n",
      "54\n",
      "53\n",
      "52\n",
      "51\n",
      "50\n",
      "49\n"
     ]
    }
   ],
   "source": [
    "# higher to lower while loop\n",
    "count=100\n",
    "a=int(input(\"******SELECT AN OPTION******\\n1)pre increment\\n2)post increment\\n\"))\n",
    "if a==1:\n",
    "    while(count>=50):\n",
    "        count-=1\n",
    "        print(count)\n",
    "elif a==2:\n",
    "    while(count>=50):\n",
    "        print(count)\n",
    "        count-=1\n",
    "else:\n",
    "    print(\"ERROR\")\n",
    "    "
   ]
  },
  {
   "cell_type": "code",
   "execution_count": 10,
   "id": "7c8ace65",
   "metadata": {},
   "outputs": [
    {
     "name": "stdout",
     "output_type": "stream",
     "text": [
      "EVEN NUMBER \t 100\n",
      "ODD NUMBER \t 99\n",
      "EVEN NUMBER \t 98\n",
      "ODD NUMBER \t 97\n",
      "EVEN NUMBER \t 96\n",
      "ODD NUMBER \t 95\n",
      "EVEN NUMBER \t 94\n",
      "ODD NUMBER \t 93\n",
      "EVEN NUMBER \t 92\n",
      "ODD NUMBER \t 91\n",
      "EVEN NUMBER \t 90\n",
      "ODD NUMBER \t 89\n",
      "EVEN NUMBER \t 88\n",
      "ODD NUMBER \t 87\n",
      "EVEN NUMBER \t 86\n",
      "ODD NUMBER \t 85\n",
      "EVEN NUMBER \t 84\n",
      "ODD NUMBER \t 83\n",
      "EVEN NUMBER \t 82\n",
      "ODD NUMBER \t 81\n",
      "EVEN NUMBER \t 80\n",
      "ODD NUMBER \t 79\n",
      "EVEN NUMBER \t 78\n",
      "ODD NUMBER \t 77\n",
      "EVEN NUMBER \t 76\n",
      "ODD NUMBER \t 75\n",
      "EVEN NUMBER \t 74\n",
      "ODD NUMBER \t 73\n",
      "EVEN NUMBER \t 72\n",
      "ODD NUMBER \t 71\n",
      "EVEN NUMBER \t 70\n",
      "ODD NUMBER \t 69\n",
      "EVEN NUMBER \t 68\n",
      "ODD NUMBER \t 67\n",
      "EVEN NUMBER \t 66\n",
      "ODD NUMBER \t 65\n",
      "EVEN NUMBER \t 64\n",
      "ODD NUMBER \t 63\n",
      "EVEN NUMBER \t 62\n",
      "ODD NUMBER \t 61\n",
      "EVEN NUMBER \t 60\n",
      "ODD NUMBER \t 59\n",
      "EVEN NUMBER \t 58\n",
      "ODD NUMBER \t 57\n",
      "EVEN NUMBER \t 56\n",
      "ODD NUMBER \t 55\n",
      "EVEN NUMBER \t 54\n",
      "ODD NUMBER \t 53\n",
      "EVEN NUMBER \t 52\n",
      "ODD NUMBER \t 51\n",
      "EVEN NUMBER \t 50\n"
     ]
    }
   ],
   "source": [
    "count=100\n",
    "while(count>=50):\n",
    "   # print(count)\n",
    "    if count%2==0:\n",
    "        print(\"EVEN NUMBER \\t\",count)\n",
    "    else:\n",
    "        print(\"ODD NUMBER \\t\",count)\n",
    "    count-=1"
   ]
  },
  {
   "cell_type": "markdown",
   "id": "fc72c25c",
   "metadata": {},
   "source": [
    "# FOR LOOP"
   ]
  },
  {
   "cell_type": "code",
   "execution_count": 20,
   "id": "b6ebd851",
   "metadata": {},
   "outputs": [
    {
     "name": "stdout",
     "output_type": "stream",
     "text": [
      "Happy Diwali A\n",
      "Happy Diwali B\n",
      "Happy Diwali C\n",
      "Happy Diwali 3.6\n",
      "Happy Diwali A\n",
      "Happy Diwali B\n",
      "Happy Diwali C\n"
     ]
    }
   ],
   "source": [
    "friends =['A','B','C',3.6]\n",
    "for f in friends:\n",
    "    print('Happy Diwali',f)\n",
    "# printing in reverse\n",
    "for f in friends[:-1]:\n",
    "    print('Happy Diwali',f)"
   ]
  },
  {
   "cell_type": "code",
   "execution_count": 29,
   "id": "3ff8df4f",
   "metadata": {},
   "outputs": [
    {
     "name": "stdout",
     "output_type": "stream",
     "text": [
      "THERE ARE  2   EVEN NUMBERS\n",
      "THERE ARE  6   ODD NUMBERS\n"
     ]
    }
   ],
   "source": [
    "#FOR LOOP IS EVEN ODD COUNTER CONDITION\n",
    "\n",
    "mylist=[1,23,53,67,425,2465,26,24]\n",
    "even=0\n",
    "odd=0\n",
    "for i in mylist:\n",
    "    if i%2==0:\n",
    "        even+=1\n",
    "    else:\n",
    "        odd+=1\n",
    "print(\"THERE ARE \",even,\"  EVEN NUMBERS\")\n",
    "print(\"THERE ARE \",odd,\"  ODD NUMBERS\")\n",
    "\n"
   ]
  },
  {
   "cell_type": "code",
   "execution_count": 35,
   "id": "3c9a6538",
   "metadata": {},
   "outputs": [
    {
     "name": "stdout",
     "output_type": "stream",
     "text": [
      "ENTER THE NUMBER\t14\n",
      "TABLE OF\t 14\n",
      "14 * 1 = 14\n",
      "14 * 2 = 28\n",
      "14 * 3 = 42\n",
      "14 * 4 = 56\n",
      "14 * 5 = 70\n",
      "14 * 6 = 84\n",
      "14 * 7 = 98\n",
      "14 * 8 = 112\n",
      "14 * 9 = 126\n",
      "14 * 10 = 140\n"
     ]
    }
   ],
   "source": [
    "i=1\n",
    "table=int(input(\"ENTER THE NUMBER\\t\"))\n",
    "print(\"TABLE OF\\t\",table)\n",
    "while(i<=10):\n",
    "    print(table,\"*\",i,\"=\",table*i)\n",
    "    i+=1"
   ]
  },
  {
   "cell_type": "code",
   "execution_count": 1,
   "id": "dd74c3db",
   "metadata": {},
   "outputs": [
    {
     "name": "stdout",
     "output_type": "stream",
     "text": [
      "5* 1 = 5\n",
      "5* 2 = 10\n",
      "5* 3 = 15\n",
      "5* 4 = 20\n",
      "5* 5 = 25\n",
      "5* 6 = 30\n",
      "5* 7 = 35\n",
      "5* 8 = 40\n",
      "5* 9 = 45\n",
      "5* 10 = 50\n"
     ]
    }
   ],
   "source": [
    "for i in range(1,11):\n",
    "    print(\"5*\",i,\"=\",5*i)"
   ]
  },
  {
   "cell_type": "markdown",
   "id": "d33b590c",
   "metadata": {},
   "source": [
    "### DATA STRUCTURES\n",
    "\n",
    "\n",
    "1) NUMBERS:int,float,complex\n",
    "\n",
    "\n",
    "2) STRING:  stores values and characters enclosed in \" \",' ',\"\"\" \"\"\"\n",
    "            slicling and indexing is possible\n",
    "            python supports zero indexing\n",
    "            it has forward and backwards indexing\n",
    "            negataive indexing starts with -1\n",
    "            for indexing we use [a:b]\n",
    "            start is inclusive and end value is exclusive in string\n",
    "            \n",
    "            \n",
    "3) LISTS: \n",
    "    MIXED DATATYPES \n",
    "    ordered manner \n",
    "    enclosed in [] \n",
    "    mutable\n",
    "    support indexing\n",
    "    "
   ]
  },
  {
   "cell_type": "code",
   "execution_count": 40,
   "id": "c2e565cc",
   "metadata": {},
   "outputs": [
    {
     "name": "stdout",
     "output_type": "stream",
     "text": [
      "2\n",
      "5.0\n",
      "c\n"
     ]
    }
   ],
   "source": [
    "# NUMBERS\n",
    "print(int(2.45))\n",
    "print(float(5))\n",
    "a=2.45\n",
    "b=int(a)\n",
    "c=chr(99)  #ASCII VALUE\n",
    "print(c)"
   ]
  },
  {
   "cell_type": "code",
   "execution_count": 13,
   "id": "542dc78d",
   "metadata": {},
   "outputs": [],
   "source": [
    "import math"
   ]
  },
  {
   "cell_type": "code",
   "execution_count": 18,
   "id": "0eebfd39",
   "metadata": {},
   "outputs": [
    {
     "name": "stdout",
     "output_type": "stream",
     "text": [
      "2.0\n",
      "10\n",
      "720\n",
      "8.0\n",
      "3.14\n",
      "3.141592653589793\n"
     ]
    }
   ],
   "source": [
    "print(math.sqrt(4))\n",
    "print(math.floor(10.7))\n",
    "print(math.factorial(6))\n",
    "print(math.pow(2,3))\n",
    "print(round(math.pi,2))\n",
    "print(math.pi)"
   ]
  },
  {
   "cell_type": "code",
   "execution_count": 21,
   "id": "d71830d0",
   "metadata": {},
   "outputs": [],
   "source": [
    "import random as rand"
   ]
  },
  {
   "cell_type": "code",
   "execution_count": 41,
   "id": "09f9c3af",
   "metadata": {},
   "outputs": [
    {
     "name": "stdout",
     "output_type": "stream",
     "text": [
      "0.27269808567197074\n",
      "26\n",
      "86.49124163110079\n",
      "4\n"
     ]
    }
   ],
   "source": [
    "print(rand.random())\n",
    "print(rand.randint(1,100))\n",
    "print(rand.uniform(50,100))\n",
    "a=[1,2,3,4,5]\n",
    "print(rand.choice(a))"
   ]
  },
  {
   "cell_type": "markdown",
   "id": "938eb268",
   "metadata": {},
   "source": [
    "### STRING"
   ]
  },
  {
   "cell_type": "code",
   "execution_count": 48,
   "id": "25a9fc3d",
   "metadata": {},
   "outputs": [
    {
     "name": "stdout",
     "output_type": "stream",
     "text": [
      "russell\n",
      "7\n",
      "HELLO WORLD\n",
      "11\n",
      "sjdhfkfncmcmccmdkd mslskf;fbwui;egfiyg     vybyfvbgyfbak ighngndjda\n",
      "67\n"
     ]
    }
   ],
   "source": [
    "letter='russell'\n",
    "print(letter)\n",
    "print(len(letter))\n",
    "b=\"HELLO WORLD\"\n",
    "print(b)\n",
    "print(len(b))\n",
    "c=\"\"\"sjdhfkfncmcmccmdkd mslskf;fbwui;egfiyg     vybyfvbgyfbak ighngndjda\"\"\"\n",
    "print(c)\n",
    "print(len(c))"
   ]
  },
  {
   "cell_type": "code",
   "execution_count": 53,
   "id": "c9453c07",
   "metadata": {},
   "outputs": [
    {
     "name": "stdout",
     "output_type": "stream",
     "text": [
      "FIRST NAME russell \tLAST NAME das \n",
      "FULL NAME  russell das\n"
     ]
    }
   ],
   "source": [
    "# CONCATINATION\n",
    "f_name=\"russell\"\n",
    "l_name=\"das\"\n",
    "full_name=f_name+\" \"+l_name\n",
    "print(\"FIRST NAME\",f_name,\"\\tLAST NAME\",l_name,\"\\nFULL NAME \",full_name)"
   ]
  },
  {
   "cell_type": "code",
   "execution_count": 61,
   "id": "d61cb4b7",
   "metadata": {},
   "outputs": [
    {
     "name": "stdout",
     "output_type": "stream",
     "text": [
      "PYTHON\tPYTHON\tPYTHON\tPYTHON\tPYTHON\t\n"
     ]
    }
   ],
   "source": [
    "#STRING REPLICATION\n",
    "print(\"PYTHON\\t\"*5)\n"
   ]
  },
  {
   "cell_type": "markdown",
   "id": "77c0dbde",
   "metadata": {},
   "source": [
    "### ESCAPE SEQUENCES\n",
    "\n",
    "\\n\n",
    "\n",
    "\\t\n",
    "\n",
    "\\\n",
    "\n",
    "'\n",
    "\n",
    "\""
   ]
  },
  {
   "cell_type": "code",
   "execution_count": 78,
   "id": "356903f1",
   "metadata": {},
   "outputs": [
    {
     "name": "stdout",
     "output_type": "stream",
     "text": [
      "I AM LEARning python' what are you learning'\n",
      "this is backslash symbol \\\n"
     ]
    }
   ],
   "source": [
    "print('I AM LEARning python\\' what are you learning\\'')\n",
    "print(\"this is backslash symbol \\\\\")"
   ]
  },
  {
   "cell_type": "code",
   "execution_count": 91,
   "id": "a1672095",
   "metadata": {},
   "outputs": [
    {
     "name": "stdout",
     "output_type": "stream",
     "text": [
      "I LIVE iN\t NASHIK I am  RUSSELL DAS\n",
      "I live NASHIK I am DAS RUSSELL \n",
      "12 + 43 = 55\n",
      "12 - 43 = -31\n",
      "12 * 43 = 516\n",
      "12 / 43 = 0.27906976744186046\n",
      "12 // 43 = 0\n"
     ]
    }
   ],
   "source": [
    "f_name=\"RUSSELL\"\n",
    "l_name=\"DAS\"\n",
    "city=\"NASHIK\"\n",
    "print('I LIVE iN\\t',city,'I am ',f_name,l_name)\n",
    "formated_string='I live {} I am {} {} '.format(city,l_name,f_name)\n",
    "print(formated_string)\n",
    "\n",
    "a=12\n",
    "b=43\n",
    "print('{} + {} = {}'.format(a,b,a+b))\n",
    "print('{} - {} = {}'.format(a,b,a-b))\n",
    "print('{} * {} = {}'.format(a,b,a*b))\n",
    "print('{} / {} = {}'.format(a,b,a/b))\n",
    "print('{} // {} = {}'.format(a,b,a//b))\n"
   ]
  },
  {
   "cell_type": "code",
   "execution_count": 99,
   "id": "92cbb84b",
   "metadata": {},
   "outputs": [
    {
     "name": "stdout",
     "output_type": "stream",
     "text": [
      "P\n",
      "H\n",
      "PYTHO\n"
     ]
    }
   ],
   "source": [
    "# SLICING AND INDEXING\n",
    "\n",
    "language='PYTHON'\n",
    "print(language[0])\n",
    "print(language[3])\n",
    "print(language[:-1])"
   ]
  },
  {
   "cell_type": "code",
   "execution_count": 105,
   "id": "c7b21af5",
   "metadata": {},
   "outputs": [
    {
     "name": "stdout",
     "output_type": "stream",
     "text": [
      "RA\n",
      "PROGRAMMI\n",
      "MMING LANG\n",
      "PROGRA\n",
      "PORMIGLNUG\n",
      "PROGR\n",
      "PROGRAMMING LANGUAGE\n",
      "PROGRAMMING LANGUAGE\n",
      "EGAUGNAL GNIMMARGORP\n"
     ]
    }
   ],
   "source": [
    "s=\"PROGRAMMING LANGUAGE\"\n",
    "print(s[4:6])\n",
    "print(s[:9])\n",
    "print(s[-14:-4])\n",
    "print(s[:6])\n",
    "print(s[::2])\n",
    "print(s[:5])\n",
    "print(s[:])\n",
    "print(s[:])\n",
    "print(s[::-1])  #REVERSING A STRING"
   ]
  },
  {
   "cell_type": "code",
   "execution_count": 110,
   "id": "5b6a8e3c",
   "metadata": {},
   "outputs": [
    {
     "name": "stdout",
     "output_type": "stream",
     "text": [
      "PROGRAMM\n"
     ]
    }
   ],
   "source": [
    "# skipping\n",
    "s=\"PROGRAMMING LANGUAGE\"\n",
    "\n",
    "print(s[0:8:1])"
   ]
  },
  {
   "cell_type": "code",
   "execution_count": 114,
   "id": "8e2510fa",
   "metadata": {},
   "outputs": [
    {
     "name": "stdout",
     "output_type": "stream",
     "text": [
      "sd\n",
      "0\n"
     ]
    }
   ],
   "source": [
    "# STRING METHODS\n",
    "\n",
    "#capital=\"beginning of python\"\n",
    "capital=input()\n",
    "print(capital.count('n'))"
   ]
  },
  {
   "cell_type": "code",
   "execution_count": 115,
   "id": "956cd5c8",
   "metadata": {},
   "outputs": [
    {
     "name": "stdout",
     "output_type": "stream",
     "text": [
      "dfgggsnnn\n",
      "3\n"
     ]
    }
   ],
   "source": [
    "capital=input()\n",
    "print(capital.count('n'))\n",
    "print(capital.count('g',3,10))"
   ]
  },
  {
   "cell_type": "code",
   "execution_count": 123,
   "id": "34187b8c",
   "metadata": {},
   "outputs": [
    {
     "name": "stdout",
     "output_type": "stream",
     "text": [
      "sddfgkhhjhg5edfgy76\n",
      "True\n"
     ]
    }
   ],
   "source": [
    "#alpha numeric\n",
    "capital=input()\n",
    "print(capital.isalnum())"
   ]
  },
  {
   "cell_type": "code",
   "execution_count": 125,
   "id": "b5e6258f",
   "metadata": {},
   "outputs": [
    {
     "name": "stdout",
     "output_type": "stream",
     "text": [
      "sdfghhgfdsa\n",
      "True\n"
     ]
    }
   ],
   "source": [
    "capital=input()\n",
    "print(capital.islower())"
   ]
  },
  {
   "cell_type": "code",
   "execution_count": 127,
   "id": "b7ae8ffd",
   "metadata": {},
   "outputs": [
    {
     "name": "stdout",
     "output_type": "stream",
     "text": [
      "SDFGHTE\n",
      "True\n"
     ]
    }
   ],
   "source": [
    "capital=input()\n",
    "print(capital.isupper())"
   ]
  },
  {
   "cell_type": "code",
   "execution_count": 130,
   "id": "5734cf8e",
   "metadata": {},
   "outputs": [
    {
     "name": "stdout",
     "output_type": "stream",
     "text": [
      "I LOVE CODEING IN JAVA\n",
      "I LOVE CODEING IN PYTHON\n"
     ]
    }
   ],
   "source": [
    "capital=\"I LOVE CODEING IN JAVA\"\n",
    "print(capital)\n",
    "print(capital.replace('JAVA','PYTHON'))"
   ]
  },
  {
   "cell_type": "code",
   "execution_count": 134,
   "id": "b4a5c021",
   "metadata": {},
   "outputs": [
    {
     "name": "stdout",
     "output_type": "stream",
     "text": [
      "22\n"
     ]
    }
   ],
   "source": [
    "print(len(capital))"
   ]
  },
  {
   "cell_type": "code",
   "execution_count": 139,
   "id": "383bd180",
   "metadata": {},
   "outputs": [
    {
     "name": "stdout",
     "output_type": "stream",
     "text": [
      "YDIYDGOFEUFPOELFEYWD\n",
      "ydiydgofeufpoelfeywd\n"
     ]
    }
   ],
   "source": [
    "capital=input()\n",
    "print(capital.lower())"
   ]
  },
  {
   "cell_type": "code",
   "execution_count": 1,
   "id": "c24214cb",
   "metadata": {},
   "outputs": [
    {
     "name": "stdout",
     "output_type": "stream",
     "text": [
      "ertyuio\n",
      "ERTYUIO\n"
     ]
    }
   ],
   "source": [
    "capital=input()\n",
    "print(capital.upper())"
   ]
  },
  {
   "cell_type": "markdown",
   "id": "58a4b785",
   "metadata": {},
   "source": [
    "### LIST"
   ]
  },
  {
   "cell_type": "code",
   "execution_count": 12,
   "id": "7a543aae",
   "metadata": {},
   "outputs": [
    {
     "name": "stdout",
     "output_type": "stream",
     "text": [
      "[]\n",
      "[1, 2, 3, 'russell', 'pious', 'python', []]\n",
      "russell\n",
      "[2, 3, 'russell', 'pious']\n",
      "[[], 'python', 'pious', 'russell', 3, 2, 1]\n"
     ]
    }
   ],
   "source": [
    "list1=[]\n",
    "list2=[1,2,3,'russell','pious','python',list1]\n",
    "print(list1)\n",
    "print(list2)\n",
    "print(list2[3])\n",
    "print(list2[1:5])\n",
    "print(list2[::-1])\n"
   ]
  },
  {
   "cell_type": "code",
   "execution_count": 17,
   "id": "16026d08",
   "metadata": {},
   "outputs": [
    {
     "name": "stdout",
     "output_type": "stream",
     "text": [
      "['a', 'b', 'd', 'q', 'w', 'h']\n"
     ]
    }
   ],
   "source": [
    "# ADDING PYTHON LIST\n",
    "l1=['a','b','d']\n",
    "l2=['q','w','h']\n",
    "l3=l1+l2\n",
    "print(l3)"
   ]
  },
  {
   "cell_type": "code",
   "execution_count": 19,
   "id": "adf29778",
   "metadata": {},
   "outputs": [
    {
     "name": "stdout",
     "output_type": "stream",
     "text": [
      "[1, 2, 3, 45, 'd', 'dsa']\n",
      "[1, 2, 3, 4, 'd', 'dsa']\n"
     ]
    }
   ],
   "source": [
    "# UPDATING LIST\n",
    "\n",
    "data=[1,2,3,45,'d','dsa']\n",
    "print(data)\n",
    "\n",
    "data[3]=4\n",
    "print(data)"
   ]
  },
  {
   "cell_type": "code",
   "execution_count": 21,
   "id": "0e4e019d",
   "metadata": {},
   "outputs": [
    {
     "name": "stdout",
     "output_type": "stream",
     "text": [
      "[1, 2, 3, 4, 5, 6, 7, 89, 5, 'sjd']\n",
      "[1, 2, 3, 4, 'change', 6, 7, 89, 5, 'sjd']\n"
     ]
    }
   ],
   "source": [
    "data1=[1,2,3,4,5,6,7,89,5,'sjd']\n",
    "print(data1)\n",
    "\n",
    "data1[4]='change'\n",
    "print(data1)"
   ]
  },
  {
   "cell_type": "code",
   "execution_count": 29,
   "id": "b291a860",
   "metadata": {},
   "outputs": [
    {
     "name": "stdout",
     "output_type": "stream",
     "text": [
      "['a', 's', 'd', 'f']\n",
      "['a', 's', 'd', 'f', 1.5, 'r']\n",
      "['a', 's', 'd', 'f', 1.5, 'r', 3, 4, 5, 6, 78, 'a', 'A', 'U', 'S', 'T', 'I', 'N', 'SAM']\n"
     ]
    }
   ],
   "source": [
    "# APPEND\n",
    "\n",
    "list1=['a','s','d','f']\n",
    "print(list1)\n",
    "\n",
    "list1.append(1.5)\n",
    "list1.append('r')\n",
    "print(list1)\n",
    "\n",
    "# EXTEND\n",
    "list1.extend([3,4,5,6,78,'a'])\n",
    "list1.extend(\"AUSTIN\")\n",
    "list1.append(\"SAM\")\n",
    "print(list1)"
   ]
  },
  {
   "cell_type": "code",
   "execution_count": 33,
   "id": "8e6785e2",
   "metadata": {},
   "outputs": [
    {
     "name": "stdout",
     "output_type": "stream",
     "text": [
      "['a', 's', 'd', 'f', 1.5, 'r', 3, 4, 5, 6, 78, 'a']\n",
      "['a', 's', 'd', 'f', 1.5, 'r', 3, 4, 5, 6, 78, 'a']\n"
     ]
    }
   ],
   "source": [
    "# DELETING ELEMENTS\n",
    "\n",
    "print(list1)\n",
    "del(list1[12:])\n",
    "print(list1)"
   ]
  },
  {
   "cell_type": "code",
   "execution_count": 45,
   "id": "e539289c",
   "metadata": {},
   "outputs": [
    {
     "name": "stdout",
     "output_type": "stream",
     "text": [
      "[15, 'u', 'w', 't', 'z', 'an', 80]\n",
      "[15, 'u', 'w', 45, 'z', 'an', 80]\n",
      "[15, 'u', 'w', 45, 'z', 'an', 80, 6, 89, 'i', 46]\n",
      "[15, 'u', 'w', 45, 'z', 'an', 80, 45]\n",
      "[15, 'u', 'w', 45, 'z', 'an', 80, 45, 'LANGUAGE']\n"
     ]
    }
   ],
   "source": [
    "my_l=[34,6,'io',8,15,'u','w','t','z','an',80]\n",
    "\n",
    "#del first 3 elements from the list\n",
    "del(my_l[0:4])\n",
    "print(my_l)\n",
    "#UPDATE THE t element by value=45\n",
    "my_l[3]=45\n",
    "print(my_l)\n",
    "# ADD LIST \n",
    "list3=[6,89,'i',46]\n",
    "listn=my_l+list3\n",
    "print(listn)\n",
    "my_l.append(45)\n",
    "print(my_l)\n",
    "my_l.append(\"LANGUAGE\")\n",
    "print(my_l)"
   ]
  },
  {
   "cell_type": "code",
   "execution_count": 55,
   "id": "657d286c",
   "metadata": {},
   "outputs": [
    {
     "name": "stdout",
     "output_type": "stream",
     "text": [
      "[15, 'u', 'w', 45, 'z', 'an', 80, 45, 'LANGUAGE']\n",
      "1\n",
      "o\n",
      "['g', 'd', 'o', '2', '3']\n"
     ]
    }
   ],
   "source": [
    "# count()\n",
    "print(my_l)\n",
    "\n",
    "print(my_l.count(15))\n",
    "\n",
    "list1=['g','d','o']\n",
    "print(max(list1))\n",
    "list1.extend('23')\n",
    "print(list1)"
   ]
  },
  {
   "cell_type": "code",
   "execution_count": 58,
   "id": "fbe3ed17",
   "metadata": {},
   "outputs": [
    {
     "name": "stdout",
     "output_type": "stream",
     "text": [
      "2\n"
     ]
    }
   ],
   "source": [
    "# Index()\n",
    "print(list1.index('o'))"
   ]
  },
  {
   "cell_type": "code",
   "execution_count": 62,
   "id": "db446129",
   "metadata": {},
   "outputs": [
    {
     "name": "stdout",
     "output_type": "stream",
     "text": [
      "['g', 'd', 'o', 'JAVA', 'JAVA', 'JAVA', 'JAVA', '2', '3']\n"
     ]
    }
   ],
   "source": [
    "# insert()\n",
    "list1.insert(3,\"JAVA\")\n",
    "print(list1)"
   ]
  },
  {
   "cell_type": "code",
   "execution_count": 65,
   "id": "39c84ecd",
   "metadata": {},
   "outputs": [
    {
     "name": "stdout",
     "output_type": "stream",
     "text": [
      "['g', 'd', 'o', 'JAVA', '2', '3']\n"
     ]
    }
   ],
   "source": [
    "# pop()\n",
    "\n",
    "list1.pop(3)\n",
    "print(list1)"
   ]
  },
  {
   "cell_type": "code",
   "execution_count": 72,
   "id": "de85fe22",
   "metadata": {},
   "outputs": [
    {
     "name": "stdout",
     "output_type": "stream",
     "text": [
      "[345, 321, 456, 7654, 12, 567, 88, 35]\n",
      "[7654, 567, 456, 345, 321, 88, 35, 12]\n"
     ]
    }
   ],
   "source": [
    "# sort()\n",
    "\n",
    "l=[345,321,456,7654,12,567,88,35]\n",
    "print(l)\n",
    "l.sort(reverse=True)# DESC True AESC False\n",
    "print(l)"
   ]
  },
  {
   "cell_type": "code",
   "execution_count": 74,
   "id": "c184a4be",
   "metadata": {},
   "outputs": [
    {
     "name": "stdout",
     "output_type": "stream",
     "text": [
      "[5, 10, 15, 20, 25, 30]\n"
     ]
    }
   ],
   "source": [
    "list1=[1,2,3,4,5,6]\n",
    "list2=[]\n",
    "for x in list1:\n",
    "    num=x*5\n",
    "    list2.append(num)\n",
    "print(list2)"
   ]
  },
  {
   "cell_type": "code",
   "execution_count": 1,
   "id": "cfeb5171",
   "metadata": {},
   "outputs": [
    {
     "name": "stdout",
     "output_type": "stream",
     "text": [
      "[4761, 244036, 841, 3481]\n"
     ]
    }
   ],
   "source": [
    "list1=[69,494,29,59]\n",
    "list2=[]\n",
    "for x in list1:\n",
    "    num=x**2\n",
    "    list2.append(num)\n",
    "print(list2)"
   ]
  },
  {
   "cell_type": "markdown",
   "id": "497291b7",
   "metadata": {},
   "source": [
    "### TUPLES\n",
    "A tuples is a colliction of data type which is ordered and unchangeable (immutable).Tuples are written with round brackets().Once a tuple is created we cannot change its values.We cannot use add,insert,remove methods in tuple.\n",
    "->Mixed Data type\n",
    "->Stored in ()\n",
    "->immutable\n",
    "->least used data types\n",
    "->Ordered in Nature"
   ]
  },
  {
   "cell_type": "code",
   "execution_count": 3,
   "id": "d043a5a9",
   "metadata": {},
   "outputs": [
    {
     "name": "stdout",
     "output_type": "stream",
     "text": [
      "('A', 'B', 'C', 'D')\n"
     ]
    }
   ],
   "source": [
    "name=(\"A\",\"B\",\"C\",\"D\")\n",
    "print(name)"
   ]
  },
  {
   "cell_type": "code",
   "execution_count": 5,
   "id": "ee0e0b4c",
   "metadata": {},
   "outputs": [
    {
     "name": "stdout",
     "output_type": "stream",
     "text": [
      "(4,)\n",
      "<class 'tuple'>\n"
     ]
    }
   ],
   "source": [
    "a=(4,)\n",
    "print(a)\n",
    "print(type(a))"
   ]
  },
  {
   "cell_type": "code",
   "execution_count": 8,
   "id": "aa9034ee",
   "metadata": {},
   "outputs": [
    {
     "name": "stdout",
     "output_type": "stream",
     "text": [
      "12\n",
      "<class 'tuple'>\n"
     ]
    }
   ],
   "source": [
    "# Tuple length\n",
    "a=('c','s',4,2,5,0,5,3,[8,5,9],(4,5),'y',3)\n",
    "print(len(a))\n",
    "print(type(a))"
   ]
  },
  {
   "cell_type": "code",
   "execution_count": 16,
   "id": "fb94a9c9",
   "metadata": {},
   "outputs": [
    {
     "name": "stdout",
     "output_type": "stream",
     "text": [
      "4\n",
      "(6, 7)\n",
      "(4, 5)\n",
      "(7, 8)\n"
     ]
    }
   ],
   "source": [
    "# Accessing Tuple Items\n",
    "a=(4,5,6,7,8,9)\n",
    "print(a[0])\n",
    "print(a[2:4])\n",
    "print(a[:-4])\n",
    "print(a[-3:-1])"
   ]
  },
  {
   "cell_type": "code",
   "execution_count": 27,
   "id": "35701dde",
   "metadata": {},
   "outputs": [
    {
     "name": "stdout",
     "output_type": "stream",
     "text": [
      "7\n",
      "('am', 66, 7)\n",
      "('fh', 'yih', 99, 57, 'd')\n",
      "('8', 'd', 57, 99, 'yih', 'fh', 7, 66, 'am', 56, 19)\n",
      "(66, 'fh', 99)\n"
     ]
    }
   ],
   "source": [
    "t=(19,56,'am',66,7,'fh','yih',99,57,'d','8')\n",
    "\n",
    "print(t[4])\n",
    "print(t[2:5])\n",
    "print(t[-6:-1])\n",
    "print(t[::-1])  # REVERSING OF TUPPLES\n",
    "print(t[3:8:2])"
   ]
  },
  {
   "cell_type": "code",
   "execution_count": 29,
   "id": "ac95ed74",
   "metadata": {},
   "outputs": [
    {
     "name": "stdout",
     "output_type": "stream",
     "text": [
      "(4, 7, 5, 'a', 'd', 'g')\n"
     ]
    }
   ],
   "source": [
    "# ADDITION OF TUPLES\n",
    "t1=(4,7,5)\n",
    "t2=(\"a\",\"d\",\"g\")\n",
    "\n",
    "t3=t1+t2\n",
    "print(t3)\n",
    "\n",
    "# ONLY SAME DATA TYPE CAN CONCATINATE WITH EACH OTHER"
   ]
  },
  {
   "cell_type": "code",
   "execution_count": 35,
   "id": "f659723c",
   "metadata": {},
   "outputs": [
    {
     "name": "stdout",
     "output_type": "stream",
     "text": [
      "(1, 2, 3, 4, 5, 6, 1, 2, 3, 4, 5, 6, 1, 2, 3, 4, 5, 6)\n"
     ]
    }
   ],
   "source": [
    "# Replicating tuples\n",
    "\n",
    "t1=(1,2,3,4,5,6)\n",
    "print(t1*3)"
   ]
  },
  {
   "cell_type": "code",
   "execution_count": 41,
   "id": "39e6103d",
   "metadata": {},
   "outputs": [
    {
     "name": "stdout",
     "output_type": "stream",
     "text": [
      "[1, 2, 3, 4, 5, 6, 7, 8, 9, 3567, 0]\n",
      "<class 'list'>\n",
      "(1, 2, 3, 4, 5, 6, 7, 8, 9, 3567, 0)\n",
      "<class 'tuple'>\n"
     ]
    }
   ],
   "source": [
    "# UPDATING Tuples\n",
    "# TO UPDATE A TUPLE WE HAVE TO FIRST CONVERT IT TO A LIST\n",
    "t1=(1,2,3,4,5,6,7,8,9,3567)\n",
    "l1=list(t1)\n",
    "l1.append(0)\n",
    "print(l1)\n",
    "print(type(l1))\n",
    "t1=tuple(l1)\n",
    "print(t1)\n",
    "print(type(t1))"
   ]
  },
  {
   "cell_type": "code",
   "execution_count": 45,
   "id": "93eda592",
   "metadata": {},
   "outputs": [
    {
     "name": "stdout",
     "output_type": "stream",
     "text": [
      "(1, 2, 3, 4, 5, 6)\n"
     ]
    }
   ],
   "source": [
    "# Deleting tuple elements\n",
    "t=(1,2,3,4,5,6)\n",
    "print(t)\n",
    "del t\n"
   ]
  },
  {
   "cell_type": "code",
   "execution_count": 50,
   "id": "05a97a71",
   "metadata": {},
   "outputs": [
    {
     "name": "stdout",
     "output_type": "stream",
     "text": [
      "11\n",
      "3567\n",
      "0\n"
     ]
    }
   ],
   "source": [
    "# Built in tuples function\n",
    "\n",
    "# Length\n",
    "print(len(t1))\n",
    "\n",
    "# Maximum\n",
    "print(max(t1))\n",
    "\n",
    "# Minimum\n",
    "print(min(t1))\n",
    "\n",
    "# converting list into  tuple ::> tuple()\n"
   ]
  },
  {
   "cell_type": "markdown",
   "id": "abe611a9",
   "metadata": {},
   "source": [
    "### SETS\n"
   ]
  },
  {
   "cell_type": "markdown",
   "id": "c21af916",
   "metadata": {},
   "source": [
    "     -> Mixed Data types\n",
    "    -> Does not support duplicate values\n",
    "    -> stored in {}\n",
    "    -> they are randomly ordered\n",
    "    -> Does not support indexing\n",
    "    -> union,intersection,difference"
   ]
  },
  {
   "cell_type": "code",
   "execution_count": 53,
   "id": "d152c1b0",
   "metadata": {},
   "outputs": [
    {
     "name": "stdout",
     "output_type": "stream",
     "text": [
      "{1, 2, 3, 4, 5, 6, 7, 8, 9, 10}\n"
     ]
    }
   ],
   "source": [
    "s1={1,2,3,4,5,6,7,8,9,10}\n",
    "print(s1)"
   ]
  },
  {
   "cell_type": "code",
   "execution_count": 61,
   "id": "fb1989a6",
   "metadata": {},
   "outputs": [
    {
     "name": "stdout",
     "output_type": "stream",
     "text": [
      "{(2, 2, 3), 1, 2, 'HELLO', (1, 4, 1)}\n",
      "{1, 3, 4.4}\n",
      "{3, 5, 6, 7}\n"
     ]
    }
   ],
   "source": [
    "s1={1,2,1,'HELLO',(2,2,3),(1,4,1)}\n",
    "print(s1)\n",
    "\n",
    "s2={1,3,1,3,4.4}\n",
    "print(s2)\n",
    "\n",
    "s3={3,5,6,7,3,6}\n",
    "print(s3)"
   ]
  },
  {
   "cell_type": "code",
   "execution_count": 72,
   "id": "28fb9080",
   "metadata": {},
   "outputs": [
    {
     "name": "stdout",
     "output_type": "stream",
     "text": [
      "{1, 2, 3, 4, 5, 6, 7}\n",
      "{1, 2, 3, 4, 5, 6, 7, 8}\n",
      "{1, 2, 3, 4, 5, 6, 7, 8, 67}\n",
      "{1, 2, 3, 4, 5, 6, 7, 8}\n"
     ]
    }
   ],
   "source": [
    "# ADDING elements\n",
    "s1={1,2,3,4,5,6,7}\n",
    "print(s1)\n",
    "\n",
    "s1.add(8) #single values\n",
    "print(s1)\n",
    "\n",
    "s1.update((6,67,8,5,1))  # adding multiple values\n",
    "print(s1)\n",
    "\n",
    "s1.remove(67)\n",
    "print(s1)"
   ]
  },
  {
   "cell_type": "code",
   "execution_count": 73,
   "id": "8962c6f9",
   "metadata": {},
   "outputs": [
    {
     "name": "stdout",
     "output_type": "stream",
     "text": [
      "{0, 1, 35, 4, 6, 7, 8, 9, 12, '4647', 21, 23, 89, 90}\n"
     ]
    }
   ],
   "source": [
    "s={45,9,6,90,45,8,'4647',6,45,89,35,21}\n",
    "\n",
    "s.add(23)\n",
    "s.add(1)\n",
    "s.update((12,7,45,9,0,4))\n",
    "s.remove(45)\n",
    "print(s)"
   ]
  },
  {
   "cell_type": "code",
   "execution_count": 74,
   "id": "781d2a58",
   "metadata": {},
   "outputs": [
    {
     "name": "stdout",
     "output_type": "stream",
     "text": [
      "{1, 2, 3, 4, 5, 6, 7, 8}\n",
      "{1, 4, 5, 6, 7, 8}\n"
     ]
    }
   ],
   "source": [
    "# HOW TO REMOVE MULTIPLE ELEMENTS\n",
    "a=[2,3]\n",
    "print(s1)\n",
    "for i in a:\n",
    "    s1.remove(i)\n",
    "print(s1)"
   ]
  },
  {
   "cell_type": "code",
   "execution_count": 75,
   "id": "799e1b30",
   "metadata": {},
   "outputs": [
    {
     "name": "stdout",
     "output_type": "stream",
     "text": [
      "{0, 1, 35, 4, 6, 7, 8, 9, 12, '4647', 21, 23, 89, 90}\n",
      "{0, 1, 35, 4, 7, 8, 9, 12, '4647', 23}\n"
     ]
    }
   ],
   "source": [
    "a=[6,90,89,21]\n",
    "print(s)\n",
    "for i in a:\n",
    "    s.remove(i)\n",
    "print(s)"
   ]
  },
  {
   "cell_type": "code",
   "execution_count": 86,
   "id": "8fc38820",
   "metadata": {},
   "outputs": [
    {
     "name": "stdout",
     "output_type": "stream",
     "text": [
      "{0, 1, 2, 3, 4, 5, 6, 8}\n",
      "{0, 1, 2, 3, 4, 5, 6, 8}\n",
      "{2, 4}\n",
      "{2, 4}\n",
      "{1, 3, 5}\n",
      "{1, 3, 5}\n",
      "{0, 8, 6}\n",
      "{0, 8, 6}\n"
     ]
    }
   ],
   "source": [
    "# UNION\n",
    "a=[1,2,3,4,5]\n",
    "b=[2,4,6,8,0]\n",
    "\n",
    "s1=set(a)\n",
    "s2=set(b)\n",
    "\n",
    "print(s1 | s2)\n",
    "print(s1.union(s2))\n",
    "\n",
    "\n",
    "\n",
    "# INTERSECTION\n",
    "print(s1 & s2)\n",
    "print(s1.intersection(s2))\n",
    "\n",
    "\n",
    "\n",
    "# DIFFERENCE\n",
    "print(s1-s2)\n",
    "print(s1.difference(s2))\n",
    "\n",
    "print(s2-s1)\n",
    "print(s2.difference(s1))"
   ]
  },
  {
   "cell_type": "code",
   "execution_count": 87,
   "id": "5aa1d14b",
   "metadata": {},
   "outputs": [
    {
     "name": "stdout",
     "output_type": "stream",
     "text": [
      "{67, 4, 8, 9, 12, 78, 14, 23, 89, 33, 34, 35, 56}\n",
      "{56, 4, 23}\n",
      "{89, 34, 67, 78}\n"
     ]
    }
   ],
   "source": [
    "s1={56,78,4,56,23,67,89,34,23}\n",
    "s2={33,4,23,56,8,9,12,35,14}\n",
    "\n",
    "print(s1.union(s2))\n",
    "\n",
    "print(s2.intersection(s1))\n",
    "\n",
    "print(s1.difference(s2))"
   ]
  },
  {
   "cell_type": "code",
   "execution_count": 91,
   "id": "64ba97a2",
   "metadata": {},
   "outputs": [
    {
     "name": "stdout",
     "output_type": "stream",
     "text": [
      "{34, 67, 5, 45, 23, 56, 89}\n",
      "{98, 67, 7, 45, 23, 56}\n",
      "{34, 67, 5, 6, 45, 15, 82, 23, 56, 89}\n",
      "{33, 98, 67, 7, 9, 45, 23, 56}\n",
      "{33, 98, 67, 7, 9, 23, 56}\n",
      "{33, 98, 67, 7, 9, 23}\n",
      "{33, 34, 67, 98, 5, 6, 7, 9, 45, 15, 82, 23, 56, 89}\n",
      "{67, 23}\n",
      "{33, 98, 9, 7}\n"
     ]
    }
   ],
   "source": [
    "l1=[34,45,23,89,5,67,34,56]\n",
    "l2=[67,98,7,67,45,23,56]\n",
    "\n",
    "\n",
    "s1=set(l1)\n",
    "s2=set(l2)\n",
    "\n",
    "print(s1)\n",
    "print(s2)\n",
    "\n",
    "\n",
    "s1.update((6,15,82))\n",
    "s2.update((7,9,33))\n",
    "\n",
    "\n",
    "print(s1)\n",
    "print(s2)\n",
    "\n",
    "a=[45,56]\n",
    "for i in a:\n",
    "    s2.remove(i)\n",
    "\n",
    "    print(s2)\n",
    "    \n",
    "    \n",
    "print(s1.union(s2))\n",
    "\n",
    "print(s2.intersection(s1))\n",
    "\n",
    "print(s2.difference(s1))   \n",
    "\n"
   ]
  },
  {
   "cell_type": "markdown",
   "id": "5efbf994",
   "metadata": {},
   "source": [
    "### DICTIONARIES"
   ]
  },
  {
   "cell_type": "markdown",
   "id": "4cae19dc",
   "metadata": {},
   "source": [
    " The data stored is in key value pair\n",
    " key is unique where as values are duplicate\n",
    " it is stored  as {k:v}\n",
    "             where k: key  v:value\n",
    "             \n",
    " dictionary are mutable \n",
    " key indexing\n",
    " \n",
    "stores data in a proper defined way"
   ]
  },
  {
   "cell_type": "code",
   "execution_count": 95,
   "id": "5f0977f7",
   "metadata": {},
   "outputs": [
    {
     "name": "stdout",
     "output_type": "stream",
     "text": [
      "{'brand': 'Ford', 'model': 'Mustang', 'year': 1964}\n",
      "<class 'dict'>\n"
     ]
    }
   ],
   "source": [
    "thisdict = {\n",
    "  \"brand\": \"Ford\",\n",
    "  \"model\": \"Mustang\",\n",
    "  \"year\": 1964\n",
    "}\n",
    "print(thisdict)\n",
    "print(type(thisdict))"
   ]
  },
  {
   "cell_type": "code",
   "execution_count": 101,
   "id": "80fdf244",
   "metadata": {},
   "outputs": [
    {
     "name": "stdout",
     "output_type": "stream",
     "text": [
      "{'name': ['Russell', 'pious', 'pearl'], 'ID': [1, 2, 3], 'Marks': [39, 0, 34], 'random': [2, 8, 9]}\n",
      "['Russell', 'pious', 'pearl']\n",
      "Russell\n"
     ]
    }
   ],
   "source": [
    "d1={\n",
    "    \"name\":[\"Russell\",\"pious\",\"pearl\"],\n",
    "    \"ID\":[1,2,3],\n",
    "    \"Marks\":[39,0,34],\n",
    "    \"random\":[2,8,9]\n",
    "}\n",
    "print(d1)\n",
    "print(d1[\"name\"])\n",
    "print(d1[\"name\"][0])"
   ]
  },
  {
   "cell_type": "code",
   "execution_count": 102,
   "id": "40796908",
   "metadata": {},
   "outputs": [],
   "source": [
    "import pandas as pd"
   ]
  },
  {
   "cell_type": "code",
   "execution_count": 103,
   "id": "1db9ecec",
   "metadata": {},
   "outputs": [
    {
     "name": "stdout",
     "output_type": "stream",
     "text": [
      "      name  ID  Marks  random\n",
      "0  Russell   1     39       2\n",
      "1    pious   2      0       8\n",
      "2    pearl   3     34       9\n"
     ]
    }
   ],
   "source": [
    "df=pd.DataFrame(d1)\n",
    "print(df)"
   ]
  },
  {
   "cell_type": "code",
   "execution_count": 112,
   "id": "a7bcbc02",
   "metadata": {},
   "outputs": [
    {
     "name": "stdout",
     "output_type": "stream",
     "text": [
      "{'name': 'russell', 'Age': 20}\n",
      "{'name': 'russell', 'Age': 21}\n",
      "{'name': 'russell', 'Age': 21, 'Address': 'Mumbai'}\n"
     ]
    },
    {
     "data": {
      "text/plain": [
       "{'name': 'russell', 'Age': 21, 'Address': 'Mumbai', 'Location': 'Dadar'}"
      ]
     },
     "execution_count": 112,
     "metadata": {},
     "output_type": "execute_result"
    }
   ],
   "source": [
    "d={\n",
    "    \"name\":\"russell\",\n",
    "    \"Age\":20,\n",
    "}\n",
    "print(d)\n",
    "d[\"Age\"]=21\n",
    "print(d)\n",
    "d['Address']='Mumbai'\n",
    "print(d)\n",
    "d['Location']='Dadar'\n",
    "d"
   ]
  },
  {
   "cell_type": "code",
   "execution_count": 113,
   "id": "e5a7ba2e",
   "metadata": {},
   "outputs": [
    {
     "name": "stdout",
     "output_type": "stream",
     "text": [
      "{'name': 'russell', 'Age': 21, 'Address': 'Mumbai'}\n"
     ]
    }
   ],
   "source": [
    "del d['Location']\n",
    "print(d)"
   ]
  },
  {
   "cell_type": "code",
   "execution_count": 115,
   "id": "bf2d7f83",
   "metadata": {},
   "outputs": [
    {
     "data": {
      "text/plain": [
       "{'name': ['Russell', 'pious', 'Samson'],\n",
       " 'ID': [1, 2, 3],\n",
       " 'Marks': [39, 0, 34],\n",
       " 'random': [2, 8, 9]}"
      ]
     },
     "execution_count": 115,
     "metadata": {},
     "output_type": "execute_result"
    }
   ],
   "source": [
    "d1[\"name\"][2]=\"Samson\"\n",
    "d1"
   ]
  },
  {
   "cell_type": "code",
   "execution_count": 118,
   "id": "0e5e7931",
   "metadata": {},
   "outputs": [
    {
     "data": {
      "text/plain": [
       "dict_values([['Russell', 'pious', 'Samson'], [1, 2, 3], [39, 0, 34], [2, 8, 9]])"
      ]
     },
     "execution_count": 118,
     "metadata": {},
     "output_type": "execute_result"
    }
   ],
   "source": [
    "d1.values()"
   ]
  },
  {
   "cell_type": "code",
   "execution_count": 120,
   "id": "8c776e4e",
   "metadata": {},
   "outputs": [
    {
     "data": {
      "text/plain": [
       "dict_keys(['name', 'Age', 'Address'])"
      ]
     },
     "execution_count": 120,
     "metadata": {},
     "output_type": "execute_result"
    }
   ],
   "source": [
    "d.keys()"
   ]
  },
  {
   "cell_type": "code",
   "execution_count": 148,
   "id": "01bd0496",
   "metadata": {},
   "outputs": [
    {
     "data": {
      "text/html": [
       "<div>\n",
       "<style scoped>\n",
       "    .dataframe tbody tr th:only-of-type {\n",
       "        vertical-align: middle;\n",
       "    }\n",
       "\n",
       "    .dataframe tbody tr th {\n",
       "        vertical-align: top;\n",
       "    }\n",
       "\n",
       "    .dataframe thead th {\n",
       "        text-align: right;\n",
       "    }\n",
       "</style>\n",
       "<table border=\"1\" class=\"dataframe\">\n",
       "  <thead>\n",
       "    <tr style=\"text-align: right;\">\n",
       "      <th></th>\n",
       "      <th>customerId</th>\n",
       "      <th>customer name</th>\n",
       "      <th>location</th>\n",
       "      <th>age</th>\n",
       "    </tr>\n",
       "  </thead>\n",
       "  <tbody>\n",
       "    <tr>\n",
       "      <th>0</th>\n",
       "      <td>1</td>\n",
       "      <td>A</td>\n",
       "      <td>NASHIK</td>\n",
       "      <td>21</td>\n",
       "    </tr>\n",
       "    <tr>\n",
       "      <th>1</th>\n",
       "      <td>2</td>\n",
       "      <td>S</td>\n",
       "      <td>MUMBAI</td>\n",
       "      <td>34</td>\n",
       "    </tr>\n",
       "    <tr>\n",
       "      <th>2</th>\n",
       "      <td>3</td>\n",
       "      <td>d</td>\n",
       "      <td>TOKYO</td>\n",
       "      <td>21</td>\n",
       "    </tr>\n",
       "    <tr>\n",
       "      <th>3</th>\n",
       "      <td>4</td>\n",
       "      <td>f</td>\n",
       "      <td>MADRAS</td>\n",
       "      <td>45</td>\n",
       "    </tr>\n",
       "    <tr>\n",
       "      <th>4</th>\n",
       "      <td>5</td>\n",
       "      <td>g</td>\n",
       "      <td>NEW YORK</td>\n",
       "      <td>32</td>\n",
       "    </tr>\n",
       "  </tbody>\n",
       "</table>\n",
       "</div>"
      ],
      "text/plain": [
       "   customerId customer name  location  age\n",
       "0           1             A    NASHIK   21\n",
       "1           2             S    MUMBAI   34\n",
       "2           3             d     TOKYO   21\n",
       "3           4             f    MADRAS   45\n",
       "4           5             g  NEW YORK   32"
      ]
     },
     "execution_count": 148,
     "metadata": {},
     "output_type": "execute_result"
    }
   ],
   "source": [
    "d={\n",
    "    \"customerId\":[1,2,3,4,5] ,\n",
    "    \"customer name\":['A','S','d','f','g'] ,\n",
    "    \"location\":['NASHIK','MUMBAI','TOKYO','MADRAS','NEW YORK'] ,\n",
    "    \"age\": [21,34,21,45,32],\n",
    "    \n",
    "}\n",
    "d\n",
    "df=pd.DataFrame(d)\n",
    "df\n",
    "\n"
   ]
  },
  {
   "cell_type": "code",
   "execution_count": 149,
   "id": "0e354b3e",
   "metadata": {},
   "outputs": [
    {
     "data": {
      "text/plain": [
       "{'customerId': [1, 2, 3, 4, 5],\n",
       " 'customer name': ['A', 'S', 'd', 'f', 'g'],\n",
       " 'location': ['NASHIK', 'MUMBAI', 'TOKYO', 'MADRAS', 'USA'],\n",
       " 'age': [21, 34, 21, 45, 32]}"
      ]
     },
     "execution_count": 149,
     "metadata": {},
     "output_type": "execute_result"
    }
   ],
   "source": [
    "d[\"location\"][4]=\"USA\"\n",
    "d"
   ]
  },
  {
   "cell_type": "code",
   "execution_count": 150,
   "id": "167e3418",
   "metadata": {},
   "outputs": [
    {
     "data": {
      "text/plain": [
       "{'customerId': [1, 2, 3, 4, 5],\n",
       " 'customer name': ['Alex', 'S', 'd', 'f', 'g'],\n",
       " 'location': ['NASHIK', 'MUMBAI', 'TOKYO', 'MADRAS', 'USA'],\n",
       " 'age': [21, 34, 21, 45, 32]}"
      ]
     },
     "execution_count": 150,
     "metadata": {},
     "output_type": "execute_result"
    }
   ],
   "source": [
    "d['customer name'][0]=\"Alex\"\n",
    "d"
   ]
  },
  {
   "cell_type": "code",
   "execution_count": 151,
   "id": "aecc3b4f",
   "metadata": {},
   "outputs": [
    {
     "data": {
      "text/plain": [
       "{'customerId': [1, 2, 3, 4, 5],\n",
       " 'customer name': ['Alex', 'S', 'd', 'f', 'g'],\n",
       " 'location': ['NASHIK', 'MUMBAI', 'TOKYO', 'MADRAS', 'USA'],\n",
       " 'age': [21, 34, 21, 45, 32],\n",
       " 'contact no': [1, 2, 3, 4, 5]}"
      ]
     },
     "execution_count": 151,
     "metadata": {},
     "output_type": "execute_result"
    }
   ],
   "source": [
    "d['contact no']=[1,2,3,4,5]\n",
    "d"
   ]
  },
  {
   "cell_type": "code",
   "execution_count": 152,
   "id": "0a8ff158",
   "metadata": {},
   "outputs": [
    {
     "data": {
      "text/plain": [
       "{'customerId': [1, 2, 3, 4, 5],\n",
       " 'customer name': ['Alex', 'S', 'd', 'f', 'g'],\n",
       " 'location': ['NASHIK', 'MUMBAI', 'TOKYO', 'MADRAS', 'USA'],\n",
       " 'contact no': [1, 2, 3, 4, 5]}"
      ]
     },
     "execution_count": 152,
     "metadata": {},
     "output_type": "execute_result"
    }
   ],
   "source": [
    "del d['age']\n",
    "d"
   ]
  },
  {
   "cell_type": "code",
   "execution_count": 1,
   "id": "e2ca70db",
   "metadata": {},
   "outputs": [
    {
     "name": "stdout",
     "output_type": "stream",
     "text": [
      "((1, 2, 1), (2, 4, 3), (3, 6, 5), (4, 8, 7), (5, 10, 9))\n",
      "[(1, 2, 1), (2, 4, 3), (3, 6, 5), (4, 8, 7), (5, 10, 9)]\n"
     ]
    }
   ],
   "source": [
    "# zip\n",
    "a=[1,2,3,4,5]\n",
    "b=(2,4,6,8,10)\n",
    "c=[1,3,5,7,9]\n",
    "\n",
    "d=tuple(zip(a,b,c))\n",
    "print(d)\n",
    "\n",
    "\n",
    "d=list(zip(a,b,c))\n",
    "print(d)"
   ]
  },
  {
   "cell_type": "markdown",
   "id": "edb70033",
   "metadata": {},
   "source": [
    "### List Comprehension"
   ]
  },
  {
   "cell_type": "code",
   "execution_count": 3,
   "id": "a234a705",
   "metadata": {},
   "outputs": [
    {
     "name": "stdout",
     "output_type": "stream",
     "text": [
      "['lotus', 'rose', 'lily', 'iris']\n"
     ]
    }
   ],
   "source": [
    "flowers=[\"lotus\",\"rose\",\"lily\",\"iris\"]\n",
    "mylist=[]\n",
    "\n",
    "mylist.extend(flowers)\n",
    "print(mylist)"
   ]
  },
  {
   "cell_type": "code",
   "execution_count": 9,
   "id": "b861c83c",
   "metadata": {},
   "outputs": [
    {
     "name": "stdout",
     "output_type": "stream",
     "text": [
      "['lotus']\n",
      "['lotus', 'rose']\n",
      "['lotus', 'rose', 'lily']\n",
      "['lotus', 'rose', 'lily', 'iris']\n",
      "['lotus', 'rose', 'lily', 'iris']\n"
     ]
    }
   ],
   "source": [
    "flowers=[\"lotus\",\"rose\",\"lily\",\"iris\"]\n",
    "mylist=[]\n",
    "\n",
    "for x in flowers:\n",
    "    mylist.append(x)\n",
    "    print(mylist)\n",
    "print(mylist)\n",
    "    "
   ]
  },
  {
   "cell_type": "code",
   "execution_count": 12,
   "id": "0d64275f",
   "metadata": {},
   "outputs": [
    {
     "name": "stdout",
     "output_type": "stream",
     "text": [
      "['lotus', 'rose', 'lily', 'iris']\n"
     ]
    }
   ],
   "source": [
    "# mylist={expression for item in iteration}\n",
    "\n",
    "flowers=[\"lotus\",\"rose\",\"lily\",\"iris\"]\n",
    "mylist=[x for x in flowers]\n",
    "print(mylist)"
   ]
  },
  {
   "cell_type": "code",
   "execution_count": 14,
   "id": "8a869e87",
   "metadata": {},
   "outputs": [
    {
     "name": "stdout",
     "output_type": "stream",
     "text": [
      "['lily', 'iris']\n"
     ]
    }
   ],
   "source": [
    "flowers=[\"lotus\",\"rose\",\"lily\",\"iris\"]\n",
    "mylist=[]\n",
    "for x in flowers:\n",
    "    if \"i\" in x:\n",
    "        mylist.append(x)\n",
    "print(mylist)"
   ]
  },
  {
   "cell_type": "code",
   "execution_count": 16,
   "id": "c9e991cb",
   "metadata": {},
   "outputs": [
    {
     "name": "stdout",
     "output_type": "stream",
     "text": [
      "['lily', 'iris']\n"
     ]
    }
   ],
   "source": [
    "# mylist=[expression for item in iterable if condition == True]\n",
    "\n",
    "flowers=[\"lotus\",\"rose\",\"lily\",\"iris\"]\n",
    "mylist=[x for x in flowers if \"i\" in x]\n",
    "print(mylist)"
   ]
  },
  {
   "cell_type": "code",
   "execution_count": 18,
   "id": "1a5f8575",
   "metadata": {},
   "outputs": [
    {
     "name": "stdout",
     "output_type": "stream",
     "text": [
      "[0, 1, 2, 3, 4, 5, 6, 7, 8, 9]\n"
     ]
    }
   ],
   "source": [
    "mylist=[x for x in range(10)]\n",
    "print(mylist)"
   ]
  },
  {
   "cell_type": "code",
   "execution_count": 19,
   "id": "7d784df5",
   "metadata": {},
   "outputs": [
    {
     "name": "stdout",
     "output_type": "stream",
     "text": [
      "[0, 1, 2, 3, 4, 5]\n"
     ]
    }
   ],
   "source": [
    "mylist=[x for x in range(10) if x<=5]\n",
    "print(mylist)"
   ]
  },
  {
   "cell_type": "code",
   "execution_count": 21,
   "id": "57874f3f",
   "metadata": {},
   "outputs": [
    {
     "name": "stdout",
     "output_type": "stream",
     "text": [
      "['LOTUS', 'ROSE', 'LILY', 'IRIS']\n"
     ]
    }
   ],
   "source": [
    "mylist=[x.upper() for x in flowers]\n",
    "print(mylist)"
   ]
  },
  {
   "cell_type": "code",
   "execution_count": 22,
   "id": "0fd2a5c8",
   "metadata": {},
   "outputs": [
    {
     "name": "stdout",
     "output_type": "stream",
     "text": [
      "['e', 'o', 'e', 'a', 'e', 'a', 'o', 'a']\n"
     ]
    }
   ],
   "source": [
    "sen=\"the rocket came back from mars\"\n",
    "vowels=[i for i in sen if i in 'aeiou']\n",
    "print(vowels)"
   ]
  },
  {
   "cell_type": "code",
   "execution_count": 23,
   "id": "b6eb5367",
   "metadata": {},
   "outputs": [
    {
     "name": "stdout",
     "output_type": "stream",
     "text": [
      "['lotus', 'sunflower', 'lily', 'iris']\n"
     ]
    }
   ],
   "source": [
    "mylist=[x if x !=\"rose\"else \"sunflower\" for x in flowers]\n",
    "print(mylist)"
   ]
  },
  {
   "cell_type": "code",
   "execution_count": 27,
   "id": "90493e13",
   "metadata": {},
   "outputs": [
    {
     "name": "stdout",
     "output_type": "stream",
     "text": [
      "[1, 3, 5, 7, 9, 11, 13, 15, 17, 19, 21, 23, 25, 27, 29, 31, 33, 35, 37, 39, 41, 43, 45, 47, 49, 51, 53, 55, 57, 59, 61, 63, 65, 67, 69, 71, 73, 75, 77, 79, 81, 83, 85, 87, 89, 91, 93, 95, 97, 99]\n"
     ]
    }
   ],
   "source": [
    "mylist=[x for x in range(101) if x%2!=0]\n",
    "print(mylist)"
   ]
  },
  {
   "cell_type": "code",
   "execution_count": 30,
   "id": "da942001",
   "metadata": {},
   "outputs": [
    {
     "name": "stdout",
     "output_type": "stream",
     "text": [
      "[2, 4, 6, 8, 10, 12, 14, 16, 18, 20, 22, 24, 26, 28, 30, 32, 34, 36, 38, 40, 42, 44, 46, 48, 50, 52, 54, 56, 58, 60, 62, 64, 66, 68, 70, 72, 74, 76, 78, 80, 82, 84, 86, 88, 90, 92, 94, 96, 98, 100]\n"
     ]
    }
   ],
   "source": [
    "mylist=[x for x in range(2,101) if x%2==0]\n",
    "print(mylist)"
   ]
  },
  {
   "cell_type": "code",
   "execution_count": 33,
   "id": "92c2625c",
   "metadata": {},
   "outputs": [
    {
     "name": "stdout",
     "output_type": "stream",
     "text": [
      "1 is odd\n",
      "2 is even\n",
      "3 is odd\n",
      "4 is even\n",
      "5 is odd\n",
      "6 is even\n",
      "7 is odd\n",
      "8 is even\n",
      "9 is odd\n",
      "10 is even\n",
      "11 is odd\n",
      "12 is even\n",
      "13 is odd\n",
      "14 is even\n",
      "15 is odd\n",
      "16 is even\n",
      "17 is odd\n",
      "18 is even\n",
      "19 is odd\n",
      "20 is even\n",
      "21 is odd\n",
      "22 is even\n",
      "23 is odd\n",
      "24 is even\n",
      "25 is odd\n",
      "26 is even\n",
      "27 is odd\n",
      "28 is even\n",
      "29 is odd\n",
      "30 is even\n",
      "31 is odd\n",
      "32 is even\n",
      "33 is odd\n",
      "34 is even\n",
      "35 is odd\n",
      "36 is even\n",
      "37 is odd\n",
      "38 is even\n",
      "39 is odd\n",
      "40 is even\n",
      "41 is odd\n",
      "42 is even\n",
      "43 is odd\n",
      "44 is even\n",
      "45 is odd\n",
      "46 is even\n",
      "47 is odd\n",
      "48 is even\n",
      "49 is odd\n",
      "50 is even\n",
      "51 is odd\n",
      "52 is even\n",
      "53 is odd\n",
      "54 is even\n",
      "55 is odd\n",
      "56 is even\n",
      "57 is odd\n",
      "58 is even\n",
      "59 is odd\n",
      "60 is even\n",
      "61 is odd\n",
      "62 is even\n",
      "63 is odd\n",
      "64 is even\n",
      "65 is odd\n",
      "66 is even\n",
      "67 is odd\n",
      "68 is even\n",
      "69 is odd\n",
      "70 is even\n",
      "71 is odd\n",
      "72 is even\n",
      "73 is odd\n",
      "74 is even\n",
      "75 is odd\n",
      "76 is even\n",
      "77 is odd\n",
      "78 is even\n",
      "79 is odd\n",
      "80 is even\n",
      "81 is odd\n",
      "82 is even\n",
      "83 is odd\n",
      "84 is even\n",
      "85 is odd\n",
      "86 is even\n",
      "87 is odd\n",
      "88 is even\n",
      "89 is odd\n",
      "90 is even\n",
      "91 is odd\n",
      "92 is even\n",
      "93 is odd\n",
      "94 is even\n",
      "95 is odd\n",
      "96 is even\n",
      "97 is odd\n",
      "98 is even\n",
      "99 is odd\n",
      "100 is even\n"
     ]
    }
   ],
   "source": [
    "mylist=[print(x,\"is even\") if x%2==0 else print(x,\"is odd\") for x in range(1,101) ]\n"
   ]
  },
  {
   "cell_type": "code",
   "execution_count": 39,
   "id": "a8fad84c",
   "metadata": {},
   "outputs": [
    {
     "name": "stdout",
     "output_type": "stream",
     "text": [
      "['a', 'a', 'u', 'o']\n"
     ]
    }
   ],
   "source": [
    "l1=\"skfkskd smjdjadjj autoc\"\n",
    "l2=[i for i in l1 if i in 'aeiou']\n",
    "print(l2)"
   ]
  },
  {
   "cell_type": "markdown",
   "id": "4011d5c4",
   "metadata": {},
   "source": [
    "### LAMBDA"
   ]
  },
  {
   "cell_type": "code",
   "execution_count": null,
   "id": "63a6eb96",
   "metadata": {},
   "outputs": [],
   "source": [
    "# anornimus,nameless,short range, temporary function"
   ]
  },
  {
   "cell_type": "code",
   "execution_count": 41,
   "id": "e009ce38",
   "metadata": {},
   "outputs": [],
   "source": [
    "def double(x):\n",
    "    return x*2"
   ]
  },
  {
   "cell_type": "code",
   "execution_count": 42,
   "id": "79340b62",
   "metadata": {},
   "outputs": [
    {
     "name": "stdout",
     "output_type": "stream",
     "text": [
      "ENTER a number10\n"
     ]
    },
    {
     "data": {
      "text/plain": [
       "20"
      ]
     },
     "execution_count": 42,
     "metadata": {},
     "output_type": "execute_result"
    }
   ],
   "source": [
    "x=int(input(\"ENTER a number\"))\n",
    "double(x)"
   ]
  },
  {
   "cell_type": "code",
   "execution_count": 47,
   "id": "1b2e25e1",
   "metadata": {},
   "outputs": [
    {
     "name": "stdout",
     "output_type": "stream",
     "text": [
      "ENTER a number\t12\n"
     ]
    },
    {
     "data": {
      "text/plain": [
       "24"
      ]
     },
     "execution_count": 47,
     "metadata": {},
     "output_type": "execute_result"
    }
   ],
   "source": [
    "double=lambda x:x*2\n",
    "x=int(input(\"ENTER a number\\t\"))\n",
    "double(x)\n"
   ]
  },
  {
   "cell_type": "code",
   "execution_count": 49,
   "id": "69a1b48d",
   "metadata": {},
   "outputs": [
    {
     "name": "stdout",
     "output_type": "stream",
     "text": [
      "[24, 45, 21, 19, 345]\n"
     ]
    }
   ],
   "source": [
    "age=[10,14,24,12,45,21,19,35,3]\n",
    "adult=list(filter(lambda x:x>18, age))\n",
    "print(adult)"
   ]
  },
  {
   "cell_type": "code",
   "execution_count": 61,
   "id": "9cf2df68",
   "metadata": {},
   "outputs": [
    {
     "name": "stdout",
     "output_type": "stream",
     "text": [
      "[2, 4, 6, 8]\n",
      "[False, True, False, True, False, True, False, True, False]\n"
     ]
    }
   ],
   "source": [
    "l1=[1,2,3,4,5,6,7,8,9]\n",
    "l2=list(filter(lambda x:(x%2==0), l1))\n",
    "print(l2)\n",
    "l2=list(map(lambda x:(x%2==0), l1))\n",
    "print(l2)"
   ]
  },
  {
   "cell_type": "code",
   "execution_count": 52,
   "id": "28fc018d",
   "metadata": {},
   "outputs": [
    {
     "name": "stdout",
     "output_type": "stream",
     "text": [
      "[1, 3, 5, 7, 9]\n"
     ]
    }
   ],
   "source": [
    "l1=[1,2,3,4,5,6,7,8,9]\n",
    "l2=list(filter(lambda x:(x%2!=0), l1))\n",
    "print(l2)"
   ]
  },
  {
   "cell_type": "code",
   "execution_count": 53,
   "id": "87d4f4c2",
   "metadata": {},
   "outputs": [
    {
     "name": "stdout",
     "output_type": "stream",
     "text": [
      "['p', 'y', 't', 'h', 'o', 'n']\n"
     ]
    }
   ],
   "source": [
    "letters=list(map(lambda x:x,'python'))\n",
    "print(letters)"
   ]
  },
  {
   "cell_type": "code",
   "execution_count": 57,
   "id": "e58445e8",
   "metadata": {},
   "outputs": [
    {
     "name": "stdout",
     "output_type": "stream",
     "text": [
      "[2, 4, 6, 8, 10, 12, 14, 16, 18]\n"
     ]
    }
   ],
   "source": [
    "l1=[1,2,3,4,5,6,7,8,9]\n",
    "l2=list(map(lambda x:x*2, l1))\n",
    "print(l2)"
   ]
  },
  {
   "cell_type": "code",
   "execution_count": null,
   "id": "80d0724c",
   "metadata": {},
   "outputs": [],
   "source": []
  }
 ],
 "metadata": {
  "kernelspec": {
   "display_name": "Python 3 (ipykernel)",
   "language": "python",
   "name": "python3"
  },
  "language_info": {
   "codemirror_mode": {
    "name": "ipython",
    "version": 3
   },
   "file_extension": ".py",
   "mimetype": "text/x-python",
   "name": "python",
   "nbconvert_exporter": "python",
   "pygments_lexer": "ipython3",
   "version": "3.9.12"
  }
 },
 "nbformat": 4,
 "nbformat_minor": 5
}
